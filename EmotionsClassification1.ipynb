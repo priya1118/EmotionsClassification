{
  "cells": [
    {
      "cell_type": "markdown",
      "id": "70e5a35f",
      "metadata": {
        "id": "70e5a35f"
      },
      "source": [
        "**Data Wrangling - Transforming and Merging datasets**"
      ]
    },
    {
      "cell_type": "code",
      "source": [
        "from google.colab import drive\n",
        "drive.mount('/content/drive')"
      ],
      "metadata": {
        "id": "p8ZeO61OXcUp",
        "colab": {
          "base_uri": "https://localhost:8080/"
        },
        "outputId": "ed229264-695f-498e-ad5b-473594e9be98"
      },
      "id": "p8ZeO61OXcUp",
      "execution_count": null,
      "outputs": [
        {
          "output_type": "stream",
          "name": "stdout",
          "text": [
            "Mounted at /content/drive\n"
          ]
        }
      ]
    },
    {
      "cell_type": "code",
      "source": [
        "# installs\n",
        "\n",
        "!pip install tensorflow-addons -q\n",
        "!pip install tokenization -q \n",
        "#!pip install -U tensorflow-text -q\n",
        "!pip install transformers -q\n"
      ],
      "metadata": {
        "id": "LJ2wk7KZFuY-",
        "colab": {
          "base_uri": "https://localhost:8080/"
        },
        "outputId": "3701a249-bbdd-4857-c07b-0fa873b686eb"
      },
      "id": "LJ2wk7KZFuY-",
      "execution_count": null,
      "outputs": [
        {
          "output_type": "stream",
          "name": "stdout",
          "text": [
            "\u001b[2K     \u001b[90m━━━━━━━━━━━━━━━━━━━━━━━━━━━━━━━━━━━━━━━━\u001b[0m \u001b[32m1.1/1.1 MB\u001b[0m \u001b[31m45.6 MB/s\u001b[0m eta \u001b[36m0:00:00\u001b[0m\n",
            "\u001b[2K     \u001b[90m━━━━━━━━━━━━━━━━━━━━━━━━━━━━━━━━━━━━━━━━\u001b[0m \u001b[32m6.8/6.8 MB\u001b[0m \u001b[31m86.5 MB/s\u001b[0m eta \u001b[36m0:00:00\u001b[0m\n",
            "\u001b[2K     \u001b[90m━━━━━━━━━━━━━━━━━━━━━━━━━━━━━━━━━━━━━━━━\u001b[0m \u001b[32m7.6/7.6 MB\u001b[0m \u001b[31m105.7 MB/s\u001b[0m eta \u001b[36m0:00:00\u001b[0m\n",
            "\u001b[2K     \u001b[90m━━━━━━━━━━━━━━━━━━━━━━━━━━━━━━━━━━━━━━\u001b[0m \u001b[32m199.8/199.8 KB\u001b[0m \u001b[31m25.9 MB/s\u001b[0m eta \u001b[36m0:00:00\u001b[0m\n",
            "\u001b[?25h"
          ]
        }
      ]
    },
    {
      "cell_type": "code",
      "source": [
        "import numpy as np\n",
        "\n",
        "predictions = [0.2,0.3,0.1,0.4]\n",
        "\n",
        "#np.argmax(.astype(int),axis = 1)\n",
        "\n",
        "(np.array(predictions) > 0.1).astype(int)"
      ],
      "metadata": {
        "colab": {
          "base_uri": "https://localhost:8080/"
        },
        "id": "l8kamPoTJYPH",
        "outputId": "d64ce315-c26c-4667-edc6-114d440db587"
      },
      "id": "l8kamPoTJYPH",
      "execution_count": null,
      "outputs": [
        {
          "output_type": "execute_result",
          "data": {
            "text/plain": [
              "array([1, 1, 0, 1])"
            ]
          },
          "metadata": {},
          "execution_count": 8
        }
      ]
    },
    {
      "cell_type": "code",
      "source": [
        "#imports \n",
        "import pandas as pd\n",
        "import warnings \n",
        "import matplotlib.pyplot as plt\n",
        "from sklearn.linear_model import LogisticRegression\n",
        "from sklearn.model_selection import train_test_split\n",
        "from sklearn.metrics import accuracy_score, f1_score\n",
        "from sklearn.feature_extraction.text import TfidfVectorizer, CountVectorizer                         \n",
        "import string\n",
        "from nltk.stem import WordNetLemmatizer\n",
        "import re\n",
        "import nltk\n",
        "import numpy as np\n",
        "import gc\n",
        "from sklearn.ensemble import RandomForestClassifier\n",
        "from sklearn.model_selection import StratifiedKFold\n",
        "from tqdm import tqdm\n",
        "from sklearn.naive_bayes import MultinomialNB\n",
        "\n",
        "from tensorflow.keras.models import Sequential\n",
        "from tensorflow.keras.layers import Embedding, Conv1D, GlobalMaxPooling1D, Dense, Dropout\n",
        "from tensorflow.keras.callbacks import EarlyStopping\n",
        "from sklearn.preprocessing import LabelEncoder\n",
        "from tensorflow.keras.utils import to_categorical\n",
        "from tensorflow.keras.preprocessing.text import Tokenizer\n",
        "from tensorflow.keras.preprocessing.sequence import pad_sequences\n",
        "from tqdm import tqdm as tqdm\n",
        "import tensorflow\n",
        "\n",
        "from sklearn.neighbors import KNeighborsClassifier\n",
        "\n",
        "from tensorflow.keras.models import Sequential\n",
        "from tensorflow.keras.layers import Embedding, Conv1D, GlobalMaxPooling1D, Dense, Dropout\n",
        "from tensorflow.keras.callbacks import EarlyStopping\n",
        "from sklearn.preprocessing import LabelEncoder\n",
        "from tensorflow.keras.utils import to_categorical\n",
        "from tensorflow.keras.preprocessing.text import Tokenizer\n",
        "from tensorflow.keras.preprocessing.sequence import pad_sequences\n",
        "from tqdm import tqdm as tqdm\n",
        "import tensorflow as tf\n",
        "from tensorflow.keras.layers import LSTM\n",
        "import gc\n",
        "from tensorflow.keras.callbacks import TensorBoard, EarlyStopping, ProgbarLogger, ModelCheckpoint\n",
        "from tensorflow.python.profiler import profiler_client\n",
        "import datetime \n",
        "\n",
        "import transformers\n",
        "from transformers import BertTokenizer\n",
        "from transformers import TFAutoModel\n",
        "import tensorflow_addons as tfa\n",
        "\n",
        "from sklearn import preprocessing\n",
        "le = preprocessing.LabelEncoder()\n",
        "\n",
        "nltk.download('stopwords')\n",
        "nltk.download('wordnet')\n",
        "nltk.download('omw-1.4')\n",
        "nltk.download('punkt')\n",
        "warnings.filterwarnings('ignore')\n"
      ],
      "metadata": {
        "colab": {
          "base_uri": "https://localhost:8080/"
        },
        "id": "tJhee5z4E2mB",
        "outputId": "663701fc-fa51-4e59-b12f-5019dd170f5a"
      },
      "id": "tJhee5z4E2mB",
      "execution_count": null,
      "outputs": [
        {
          "output_type": "stream",
          "name": "stderr",
          "text": [
            "[nltk_data] Downloading package stopwords to /root/nltk_data...\n",
            "[nltk_data]   Package stopwords is already up-to-date!\n",
            "[nltk_data] Downloading package wordnet to /root/nltk_data...\n",
            "[nltk_data]   Package wordnet is already up-to-date!\n",
            "[nltk_data] Downloading package omw-1.4 to /root/nltk_data...\n",
            "[nltk_data]   Package omw-1.4 is already up-to-date!\n",
            "[nltk_data] Downloading package punkt to /root/nltk_data...\n",
            "[nltk_data]   Package punkt is already up-to-date!\n"
          ]
        }
      ]
    },
    {
      "cell_type": "code",
      "execution_count": null,
      "id": "6bf192f1",
      "metadata": {
        "id": "6bf192f1"
      },
      "outputs": [],
      "source": [
        "\n",
        "# Load the old csv datasets into a pandas DataFrames\n",
        "cols_to_use = ['text', 'admiration', 'amusement', 'anger', 'annoyance', 'approval', 'caring', \n",
        "               'confusion', 'curiosity', 'desire', 'disappointment', 'disapproval', 'disgust', \n",
        "               'embarrassment', 'excitement', 'fear', 'gratitude', 'grief', 'joy', 'love', \n",
        "               'nervousness', 'optimism', 'pride', 'realization', 'relief', 'remorse', 'sadness', \n",
        "               'surprise', 'neutral']\n",
        "\n",
        "df_old1 = pd.read_csv('/content/drive/MyDrive/GoEmotions_Priyanka/goemotions_1.csv', usecols=cols_to_use)\n",
        "df_old2 = pd.read_csv('/content/drive/MyDrive/GoEmotions_Priyanka/goemotions_2.csv', usecols=cols_to_use)\n",
        "df_old3 = pd.read_csv('/content/drive/MyDrive/GoEmotions_Priyanka/goemotions_3.csv', usecols=cols_to_use)\n",
        "\n",
        "# Concatenate the old DataFrames into a new DataFrame\n",
        "df_old = pd.concat([df_old1, df_old2, df_old3], ignore_index=True)\n",
        "\n",
        "# Use list comprehension to extract the emotion for each row that has a value of 1\n",
        "df_new = pd.DataFrame({'text': df_old['text'], 'emotion': [row[row == 1].index.tolist()[0] if len(row[row == 1].index.tolist()) > 0 else 'neutral' for _, row in df_old.iloc[:, 1:].iterrows()]})\n",
        "\n",
        "# Save the new dataset to a csv file\n",
        "df_new.to_csv('/content/drive/MyDrive/GoEmotions_Priyanka/transformed.csv', index=False)\n"
      ]
    },
    {
      "cell_type": "markdown",
      "id": "34740fa3",
      "metadata": {
        "id": "34740fa3"
      },
      "source": [
        "**Data Preprocessing - Cleaning and Lemmatizing data**"
      ]
    },
    {
      "cell_type": "code",
      "execution_count": null,
      "id": "e85ec021",
      "metadata": {
        "id": "e85ec021"
      },
      "outputs": [],
      "source": [
        "df = pd.read_csv('/content/drive/MyDrive/GoEmotions_Priyanka/transformed.csv')\n",
        "\n",
        "def clean(dirtytext): \n",
        "    # removing punctuations\n",
        "    step1 = \"\".join([i for i in dirtytext if i not in string.punctuation])\n",
        "    \n",
        "    # lowercase the letters\n",
        "    step2 = \"\".join([i.lower() for i in step1])\n",
        "    \n",
        "    # removing special characters\n",
        "    step3 = re.sub('[^A-Za-z0-9.]+', ' ', step2)\n",
        "    \n",
        "    # removing hyperlinks\n",
        "    step4 = re.sub(r'http\\S+', '', step3)\n",
        "\n",
        "    # tokenizing words\n",
        "    words = nltk.tokenize.word_tokenize(step4)\n",
        "    \n",
        "    # removing stopwords\n",
        "    stopwords = nltk.corpus.stopwords.words('english')\n",
        "    step5 = [i for i in words if i not in stopwords]\n",
        "    \n",
        "    # used lemmatization\n",
        "    lemmatizer = WordNetLemmatizer()\n",
        "    cleantext = [lemmatizer.lemmatize(word) for word in step5]\n",
        "    cleantext = \" \".join(cleantext)\n",
        "    return cleantext\n",
        "\n",
        "for i in range(len(df)):\n",
        "    df.iloc[i].text = clean(df.iloc[i].text)\n",
        "\n",
        "df.to_csv('/content/drive/MyDrive/GoEmotions_Priyanka/cleaned.csv', index=False)\n"
      ]
    },
    {
      "cell_type": "markdown",
      "id": "72df037c",
      "metadata": {
        "id": "72df037c"
      },
      "source": [
        "**Converting labels into numeric values**"
      ]
    },
    {
      "cell_type": "code",
      "execution_count": null,
      "id": "1e2be67b",
      "metadata": {
        "id": "1e2be67b"
      },
      "outputs": [],
      "source": [
        "df = pd.read_csv('/content/drive/MyDrive/GoEmotions_Priyanka/cleaned.csv')\n",
        "df['emotion'] = le.fit_transform(df['emotion'].values)\n",
        "df = df[:10000]\n",
        "df = df.dropna()"
      ]
    },
    {
      "cell_type": "code",
      "source": [
        "plt.figure(figsize = (12,8))\n",
        "\n",
        "df['emotion'].value_counts().sort_values().plot(kind='barh')\n",
        "\n",
        "plt.title('Emotion Counts')\n",
        "plt.xlabel('Count')\n",
        "plt.ylabel('Emotion Index')\n",
        "\n",
        "plt.show()"
      ],
      "metadata": {
        "colab": {
          "base_uri": "https://localhost:8080/",
          "height": 513
        },
        "id": "_kVXjBZYR8mb",
        "outputId": "e8800763-f691-46f0-a3e5-8b1227efd231"
      },
      "id": "_kVXjBZYR8mb",
      "execution_count": null,
      "outputs": [
        {
          "output_type": "display_data",
          "data": {
            "text/plain": [
              "<Figure size 864x576 with 1 Axes>"
            ],
            "image/png": "[encoded data removed]"
          },
          "metadata": {
            "needs_background": "light"
          }
        }
      ]
    },
    {
      "cell_type": "code",
      "execution_count": null,
      "id": "1d08c6a2",
      "metadata": {
        "id": "1d08c6a2"
      },
      "outputs": [],
      "source": [
        "vectorizer_tfidf = TfidfVectorizer(stop_words=\"english\", sublinear_tf=True, norm='l2', ngram_range=(1,4))\n",
        "features_tfidf = vectorizer_tfidf.fit_transform(list(df['text']))\n",
        "\n",
        "vectorizer_bow = CountVectorizer(stop_words=\"english\", ngram_range=(1,4))\n",
        "features_bow = vectorizer_bow.fit_transform(list(df['text']))"
      ]
    },
    {
      "cell_type": "code",
      "execution_count": null,
      "id": "e0376029",
      "metadata": {
        "id": "e0376029",
        "outputId": "09d70e84-cd3f-44ab-8c23-a0ede818d82c",
        "colab": {
          "base_uri": "https://localhost:8080/"
        }
      },
      "outputs": [
        {
          "output_type": "stream",
          "name": "stdout",
          "text": [
            "<class 'scipy.sparse._csr.csr_matrix'>\n",
            "  (0, 51178)\t0.7949361813852096\n",
            "  (0, 71163)\t0.4796375453442643\n",
            "  (0, 50880)\t0.3715162077498502\n",
            "  (1, 75534)\t0.18203722067134212\n",
            "  (1, 132895)\t0.18203722067134212\n",
            "  (1, 121535)\t0.18203722067134212\n",
            "  (1, 101679)\t0.18203722067134212\n",
            "  (1, 19923)\t0.18203722067134212\n",
            "  (1, 59843)\t0.18203722067134212\n",
            "  (1, 156154)\t0.18203722067134212\n",
            "  (1, 46108)\t0.18203722067134212\n",
            "  (1, 75533)\t0.18203722067134212\n",
            "  (1, 132894)\t0.18203722067134212\n",
            "  (1, 121534)\t0.18203722067134212\n",
            "  (1, 101678)\t0.18203722067134212\n",
            "  (1, 19922)\t0.18203722067134212\n",
            "  (1, 59842)\t0.18203722067134212\n",
            "  (1, 156153)\t0.18203722067134212\n",
            "  (1, 46107)\t0.1756004507728715\n",
            "  (1, 75532)\t0.18203722067134212\n",
            "  (1, 132893)\t0.18203722067134212\n",
            "  (1, 121533)\t0.18203722067134212\n",
            "  (1, 101677)\t0.1756004507728715\n",
            "  (1, 19921)\t0.18203722067134212\n",
            "  (1, 59841)\t0.18203722067134212\n",
            "  :\t:\n",
            "  (210794, 129976)\t0.21989315199727485\n",
            "  (210794, 37077)\t0.2726951808728964\n",
            "  (210794, 4662)\t0.14731312325343826\n",
            "  (210794, 11270)\t0.23135980257205505\n",
            "  (210794, 90071)\t0.10172138348540864\n",
            "  (210794, 113078)\t0.14148167443968865\n",
            "  (210794, 176911)\t0.1316650085926587\n",
            "  (210795, 146550)\t0.24902160338517215\n",
            "  (210795, 93829)\t0.24902160338517215\n",
            "  (210795, 35351)\t0.24902160338517215\n",
            "  (210795, 36391)\t0.24902160338517215\n",
            "  (210795, 146549)\t0.24902160338517215\n",
            "  (210795, 93828)\t0.24902160338517215\n",
            "  (210795, 35350)\t0.24902160338517215\n",
            "  (210795, 144803)\t0.24902160338517215\n",
            "  (210795, 36390)\t0.24902160338517215\n",
            "  (210795, 146548)\t0.24902160338517215\n",
            "  (210795, 93827)\t0.24902160338517215\n",
            "  (210795, 35349)\t0.24902160338517215\n",
            "  (210795, 144799)\t0.19897787201374972\n",
            "  (210795, 146547)\t0.24902160338517215\n",
            "  (210795, 35348)\t0.22416452759255595\n",
            "  (210795, 29975)\t0.20808050914365128\n",
            "  (210795, 93770)\t0.16466080123622726\n",
            "  (210795, 36386)\t0.18328809804802512\n"
          ]
        }
      ],
      "source": [
        "print(type(features_tfidf))\n",
        "print(features_tfidf)"
      ]
    },
    {
      "cell_type": "code",
      "source": [
        "X = features_tfidf\n",
        "y = df['emotion'].values.astype(int)\n",
        "X_train, X_test, y_train, y_test = train_test_split(X, y, test_size=0.2, random_state=42, stratify=y)\n",
        "\n",
        "# Create a Logistic Regression model\n",
        "lr_model = LogisticRegression(max_iter = 200)\n",
        "\n",
        "# Train the model on the training set\n",
        "lr_model.fit(X_train, y_train)\n",
        "\n",
        "# Predict the target values for the testing set\n",
        "y_pred_prob = lr_model.predict_proba(X_test)\n",
        "\n",
        "thresholds = [0.1, 0.2, 0.3, 0.4, 0.5, 0.6, 0.7, 0.8, 0.9]\n",
        "for threshold in thresholds:\n",
        "    y_pred = np.argmax((y_pred_prob > threshold).astype(int),axis = 1)\n",
        "    f1 = f1_score(y_test, y_pred, average = 'weighted')\n",
        "    accuracy = accuracy_score(y_test, y_pred)\n",
        "    print('Threshold: {:.1f} \\t F1 score: {:.4f}'.format(threshold, f1))\n",
        "    print('Threshold: {:.1f} \\t Accuracy score: {:.4f}'.format(threshold, accuracy))\n",
        "\n",
        "gc.collect()"
      ],
      "metadata": {
        "id": "k0LTGFYrkZlg"
      },
      "id": "k0LTGFYrkZlg",
      "execution_count": null,
      "outputs": []
    },
    {
      "cell_type": "code",
      "source": [
        "# Create a Logistic Regression model\n",
        "lr_model = LogisticRegression(max_iter = 200)\n",
        "\n",
        "# Train the model on the training set\n",
        "lr_model.fit(X_train, y_train)\n",
        "\n",
        "# Predict the target values for the testing set\n",
        "y_pred_prob = lr_model.predict_proba(X_test)\n",
        "\n",
        "thresholds = [0.1, 0.2, 0.3, 0.4, 0.5, 0.6, 0.7, 0.8, 0.9]\n",
        "for threshold in thresholds:\n",
        "    y_pred = np.argmax((y_pred_prob > threshold).astype(int),axis = 1)\n",
        "    f1 = f1_score(y_test, y_pred, average = 'weighted')\n",
        "    accuracy = accuracy_score(y_test, y_pred)\n",
        "    print('Threshold: {:.1f} \\t F1 score: {:.4f}'.format(threshold, f1))\n",
        "    print('Threshold: {:.1f} \\t Accuracy score: {:.4f}'.format(threshold, accuracy))\n",
        "\n",
        "gc.collect()"
      ],
      "metadata": {
        "colab": {
          "base_uri": "https://localhost:8080/"
        },
        "id": "GTjbG9UOujad",
        "outputId": "963202fc-a662-4078-b06e-ba1501df1a30"
      },
      "id": "GTjbG9UOujad",
      "execution_count": null,
      "outputs": [
        {
          "output_type": "stream",
          "name": "stdout",
          "text": [
            "Threshold: 0.1 \t F1 score: 0.2881\n",
            "Threshold: 0.1 \t Accuracy score: 0.3260\n",
            "Threshold: 0.2 \t F1 score: 0.2898\n",
            "Threshold: 0.2 \t Accuracy score: 0.3595\n",
            "Threshold: 0.3 \t F1 score: 0.2557\n",
            "Threshold: 0.3 \t Accuracy score: 0.3215\n",
            "Threshold: 0.4 \t F1 score: 0.2270\n",
            "Threshold: 0.4 \t Accuracy score: 0.2704\n",
            "Threshold: 0.5 \t F1 score: 0.1703\n",
            "Threshold: 0.5 \t Accuracy score: 0.1898\n",
            "Threshold: 0.6 \t F1 score: 0.1271\n",
            "Threshold: 0.6 \t Accuracy score: 0.1492\n",
            "Threshold: 0.7 \t F1 score: 0.0946\n",
            "Threshold: 0.7 \t Accuracy score: 0.1242\n",
            "Threshold: 0.8 \t F1 score: 0.0609\n",
            "Threshold: 0.8 \t Accuracy score: 0.1002\n",
            "Threshold: 0.9 \t F1 score: 0.0263\n",
            "Threshold: 0.9 \t Accuracy score: 0.0836\n"
          ]
        },
        {
          "output_type": "execute_result",
          "data": {
            "text/plain": [
              "62"
            ]
          },
          "metadata": {},
          "execution_count": 32
        }
      ]
    },
    {
      "cell_type": "code",
      "execution_count": null,
      "id": "d5208439",
      "metadata": {
        "id": "d5208439"
      },
      "outputs": [],
      "source": [
        "skf = StratifiedKFold(n_splits=5, shuffle=True, random_state=42)\n",
        "\n",
        "val_accs = np.zeros(5) \n",
        "\n",
        "for fold_idx, (train_idx, val_idx) in enumerate(skf.split(X, y)):\n",
        "\n",
        "    # Split the data into training and validation sets\n",
        "    X_train_tfidf, y_train = X[train_idx], y[train_idx]\n",
        "    X_val_tfidf, y_val = X[val_idx], y[val_idx]\n",
        "    \n",
        "    # Initialize the Random Forest Classifier\n",
        "    rfc = RandomForestClassifier()\n",
        "    \n",
        "    for epoch in tqdm(range(10)):  # 10 epochs\n",
        "        \n",
        "        # Train the model on the training set\n",
        "        rfc.fit(X_train_tfidf, y_train)\n",
        "        \n",
        "        # Predict the labels of the validation set and compute the accuracy\n",
        "        y_val_pred = rfc.predict(X_val_tfidf)\n",
        "        val_f1 = f1_score(y_val, y_val_pred, average='weighted')\n",
        "        \n",
        "        # Update the progress bar\n",
        "        tqdm.write(f\"Fold {fold_idx + 1}/{skf.n_splits} - Epoch {epoch + 1}/10 - Validation f1 score: {val_f1:.4f}\")\n",
        "    \n",
        "    val_accs[fold_idx] = val_f1\n",
        "   \n",
        "    tqdm.write(\"=\" * 80)\n",
        "\n",
        "# Compute the average validation accuracy across all folds and epochs\n",
        "avg_val_f1 = np.mean(val_accs)\n",
        "\n",
        "# Display the final results\n",
        "print(\"=\" * 80)\n",
        "print(f\"Average validation f1 score: {avg_val_f1:.4f}\")\n"
      ]
    },
    {
      "cell_type": "markdown",
      "id": "da845a9c",
      "metadata": {
        "id": "da845a9c"
      },
      "source": [
        "Accuracy for 10k data Random Forest with tfidf is around 35%. "
      ]
    },
    {
      "cell_type": "code",
      "execution_count": null,
      "id": "dbe70edf",
      "metadata": {
        "id": "dbe70edf",
        "outputId": "5ed56b3f-83ed-4723-d0b5-4671fcd00b6b",
        "colab": {
          "base_uri": "https://localhost:8080/"
        }
      },
      "outputs": [
        {
          "output_type": "stream",
          "name": "stderr",
          "text": [
            " 20%|██        | 2/10 [00:00<00:00, 12.46it/s]"
          ]
        },
        {
          "output_type": "stream",
          "name": "stdout",
          "text": [
            "Fold 1/5 - Epoch 1/10 - Validation f1 score: 0.1321\n",
            "Fold 1/5 - Epoch 2/10 - Validation f1 score: 0.1321\n",
            "Fold 1/5 - Epoch 3/10 - Validation f1 score: 0.1321\n"
          ]
        },
        {
          "output_type": "stream",
          "name": "stderr",
          "text": [
            " 60%|██████    | 6/10 [00:00<00:00, 11.64it/s]"
          ]
        },
        {
          "output_type": "stream",
          "name": "stdout",
          "text": [
            "Fold 1/5 - Epoch 4/10 - Validation f1 score: 0.1321\n",
            "Fold 1/5 - Epoch 5/10 - Validation f1 score: 0.1321\n",
            "Fold 1/5 - Epoch 6/10 - Validation f1 score: 0.1321\n"
          ]
        },
        {
          "output_type": "stream",
          "name": "stderr",
          "text": [
            " 80%|████████  | 8/10 [00:00<00:00, 11.79it/s]"
          ]
        },
        {
          "output_type": "stream",
          "name": "stdout",
          "text": [
            "Fold 1/5 - Epoch 7/10 - Validation f1 score: 0.1321\n",
            "Fold 1/5 - Epoch 8/10 - Validation f1 score: 0.1321\n",
            "Fold 1/5 - Epoch 9/10 - Validation f1 score: 0.1321\n"
          ]
        },
        {
          "output_type": "stream",
          "name": "stderr",
          "text": [
            "100%|██████████| 10/10 [00:00<00:00, 11.71it/s]\n"
          ]
        },
        {
          "output_type": "stream",
          "name": "stdout",
          "text": [
            "Fold 1/5 - Epoch 10/10 - Validation f1 score: 0.1321\n",
            "================================================================================\n"
          ]
        },
        {
          "output_type": "stream",
          "name": "stderr",
          "text": [
            " 20%|██        | 2/10 [00:00<00:00, 12.24it/s]"
          ]
        },
        {
          "output_type": "stream",
          "name": "stdout",
          "text": [
            "Fold 2/5 - Epoch 1/10 - Validation f1 score: 0.1301\n",
            "Fold 2/5 - Epoch 2/10 - Validation f1 score: 0.1301\n"
          ]
        },
        {
          "output_type": "stream",
          "name": "stderr",
          "text": [
            " 20%|██        | 2/10 [00:00<00:00, 12.24it/s]"
          ]
        },
        {
          "output_type": "stream",
          "name": "stdout",
          "text": [
            "Fold 2/5 - Epoch 3/10 - Validation f1 score: 0.1301\n"
          ]
        },
        {
          "output_type": "stream",
          "name": "stderr",
          "text": [
            " 40%|████      | 4/10 [00:00<00:00, 11.51it/s]"
          ]
        },
        {
          "output_type": "stream",
          "name": "stdout",
          "text": [
            "Fold 2/5 - Epoch 4/10 - Validation f1 score: 0.1301\n",
            "Fold 2/5 - Epoch 5/10 - Validation f1 score: 0.1301\n"
          ]
        },
        {
          "output_type": "stream",
          "name": "stderr",
          "text": [
            " 60%|██████    | 6/10 [00:00<00:00, 11.52it/s]"
          ]
        },
        {
          "output_type": "stream",
          "name": "stdout",
          "text": [
            "Fold 2/5 - Epoch 6/10 - Validation f1 score: 0.1301\n"
          ]
        },
        {
          "output_type": "stream",
          "name": "stderr",
          "text": [
            " 80%|████████  | 8/10 [00:00<00:00, 11.52it/s]"
          ]
        },
        {
          "output_type": "stream",
          "name": "stdout",
          "text": [
            "Fold 2/5 - Epoch 7/10 - Validation f1 score: 0.1301\n",
            "Fold 2/5 - Epoch 8/10 - Validation f1 score: 0.1301\n"
          ]
        },
        {
          "output_type": "stream",
          "name": "stderr",
          "text": [
            " 80%|████████  | 8/10 [00:00<00:00, 11.52it/s]"
          ]
        },
        {
          "output_type": "stream",
          "name": "stdout",
          "text": [
            "Fold 2/5 - Epoch 9/10 - Validation f1 score: 0.1301\n"
          ]
        },
        {
          "output_type": "stream",
          "name": "stderr",
          "text": [
            "100%|██████████| 10/10 [00:00<00:00, 11.59it/s]\n"
          ]
        },
        {
          "output_type": "stream",
          "name": "stdout",
          "text": [
            "Fold 2/5 - Epoch 10/10 - Validation f1 score: 0.1301\n",
            "================================================================================\n"
          ]
        },
        {
          "output_type": "stream",
          "name": "stderr",
          "text": [
            "  0%|          | 0/10 [00:00<?, ?it/s]"
          ]
        },
        {
          "output_type": "stream",
          "name": "stdout",
          "text": [
            "Fold 3/5 - Epoch 1/10 - Validation f1 score: 0.1319\n"
          ]
        },
        {
          "output_type": "stream",
          "name": "stderr",
          "text": [
            " 20%|██        | 2/10 [00:00<00:00, 11.67it/s]"
          ]
        },
        {
          "output_type": "stream",
          "name": "stdout",
          "text": [
            "Fold 3/5 - Epoch 2/10 - Validation f1 score: 0.1319\n"
          ]
        },
        {
          "output_type": "stream",
          "name": "stderr",
          "text": [
            " 20%|██        | 2/10 [00:00<00:00, 11.67it/s]"
          ]
        },
        {
          "output_type": "stream",
          "name": "stdout",
          "text": [
            "Fold 3/5 - Epoch 3/10 - Validation f1 score: 0.1319\n"
          ]
        },
        {
          "output_type": "stream",
          "name": "stderr",
          "text": [
            " 40%|████      | 4/10 [00:00<00:00, 11.29it/s]"
          ]
        },
        {
          "output_type": "stream",
          "name": "stdout",
          "text": [
            "Fold 3/5 - Epoch 4/10 - Validation f1 score: 0.1319\n"
          ]
        },
        {
          "output_type": "stream",
          "name": "stderr",
          "text": [
            " 40%|████      | 4/10 [00:00<00:00, 11.29it/s]"
          ]
        },
        {
          "output_type": "stream",
          "name": "stdout",
          "text": [
            "Fold 3/5 - Epoch 5/10 - Validation f1 score: 0.1319\n"
          ]
        },
        {
          "output_type": "stream",
          "name": "stderr",
          "text": [
            " 60%|██████    | 6/10 [00:00<00:00, 11.19it/s]"
          ]
        },
        {
          "output_type": "stream",
          "name": "stdout",
          "text": [
            "Fold 3/5 - Epoch 6/10 - Validation f1 score: 0.1319\n"
          ]
        },
        {
          "output_type": "stream",
          "name": "stderr",
          "text": [
            " 60%|██████    | 6/10 [00:00<00:00, 11.19it/s]"
          ]
        },
        {
          "output_type": "stream",
          "name": "stdout",
          "text": [
            "Fold 3/5 - Epoch 7/10 - Validation f1 score: 0.1319\n"
          ]
        },
        {
          "output_type": "stream",
          "name": "stderr",
          "text": [
            " 80%|████████  | 8/10 [00:00<00:00, 11.26it/s]"
          ]
        },
        {
          "output_type": "stream",
          "name": "stdout",
          "text": [
            "Fold 3/5 - Epoch 8/10 - Validation f1 score: 0.1319\n"
          ]
        },
        {
          "output_type": "stream",
          "name": "stderr",
          "text": [
            " 80%|████████  | 8/10 [00:00<00:00, 11.26it/s]"
          ]
        },
        {
          "output_type": "stream",
          "name": "stdout",
          "text": [
            "Fold 3/5 - Epoch 9/10 - Validation f1 score: 0.1319\n"
          ]
        },
        {
          "output_type": "stream",
          "name": "stderr",
          "text": [
            "100%|██████████| 10/10 [00:00<00:00, 11.21it/s]\n"
          ]
        },
        {
          "output_type": "stream",
          "name": "stdout",
          "text": [
            "Fold 3/5 - Epoch 10/10 - Validation f1 score: 0.1319\n",
            "================================================================================\n"
          ]
        },
        {
          "output_type": "stream",
          "name": "stderr",
          "text": [
            "  0%|          | 0/10 [00:00<?, ?it/s]"
          ]
        },
        {
          "output_type": "stream",
          "name": "stdout",
          "text": [
            "Fold 4/5 - Epoch 1/10 - Validation f1 score: 0.1233\n"
          ]
        },
        {
          "output_type": "stream",
          "name": "stderr",
          "text": [
            " 20%|██        | 2/10 [00:00<00:00, 11.72it/s]"
          ]
        },
        {
          "output_type": "stream",
          "name": "stdout",
          "text": [
            "Fold 4/5 - Epoch 2/10 - Validation f1 score: 0.1233\n"
          ]
        },
        {
          "output_type": "stream",
          "name": "stderr",
          "text": [
            " 20%|██        | 2/10 [00:00<00:00, 11.72it/s]"
          ]
        },
        {
          "output_type": "stream",
          "name": "stdout",
          "text": [
            "Fold 4/5 - Epoch 3/10 - Validation f1 score: 0.1233\n"
          ]
        },
        {
          "output_type": "stream",
          "name": "stderr",
          "text": [
            " 40%|████      | 4/10 [00:00<00:00,  9.15it/s]"
          ]
        },
        {
          "output_type": "stream",
          "name": "stdout",
          "text": [
            "Fold 4/5 - Epoch 4/10 - Validation f1 score: 0.1233\n"
          ]
        },
        {
          "output_type": "stream",
          "name": "stderr",
          "text": [
            " 50%|█████     | 5/10 [00:00<00:00,  9.02it/s]"
          ]
        },
        {
          "output_type": "stream",
          "name": "stdout",
          "text": [
            "Fold 4/5 - Epoch 5/10 - Validation f1 score: 0.1233\n"
          ]
        },
        {
          "output_type": "stream",
          "name": "stderr",
          "text": [
            " 60%|██████    | 6/10 [00:00<00:00,  8.68it/s]"
          ]
        },
        {
          "output_type": "stream",
          "name": "stdout",
          "text": [
            "Fold 4/5 - Epoch 6/10 - Validation f1 score: 0.1233\n"
          ]
        },
        {
          "output_type": "stream",
          "name": "stderr",
          "text": [
            " 70%|███████   | 7/10 [00:00<00:00,  8.56it/s]"
          ]
        },
        {
          "output_type": "stream",
          "name": "stdout",
          "text": [
            "Fold 4/5 - Epoch 7/10 - Validation f1 score: 0.1233\n"
          ]
        },
        {
          "output_type": "stream",
          "name": "stderr",
          "text": [
            " 80%|████████  | 8/10 [00:00<00:00,  8.69it/s]"
          ]
        },
        {
          "output_type": "stream",
          "name": "stdout",
          "text": [
            "Fold 4/5 - Epoch 8/10 - Validation f1 score: 0.1233\n"
          ]
        },
        {
          "output_type": "stream",
          "name": "stderr",
          "text": [
            " 90%|█████████ | 9/10 [00:01<00:00,  8.37it/s]"
          ]
        },
        {
          "output_type": "stream",
          "name": "stdout",
          "text": [
            "Fold 4/5 - Epoch 9/10 - Validation f1 score: 0.1233\n"
          ]
        },
        {
          "output_type": "stream",
          "name": "stderr",
          "text": [
            "100%|██████████| 10/10 [00:01<00:00,  8.58it/s]\n"
          ]
        },
        {
          "output_type": "stream",
          "name": "stdout",
          "text": [
            "Fold 4/5 - Epoch 10/10 - Validation f1 score: 0.1233\n",
            "================================================================================\n"
          ]
        },
        {
          "output_type": "stream",
          "name": "stderr",
          "text": [
            " 10%|█         | 1/10 [00:00<00:01,  8.00it/s]"
          ]
        },
        {
          "output_type": "stream",
          "name": "stdout",
          "text": [
            "Fold 5/5 - Epoch 1/10 - Validation f1 score: 0.1312\n"
          ]
        },
        {
          "output_type": "stream",
          "name": "stderr",
          "text": [
            " 20%|██        | 2/10 [00:00<00:00,  8.63it/s]"
          ]
        },
        {
          "output_type": "stream",
          "name": "stdout",
          "text": [
            "Fold 5/5 - Epoch 2/10 - Validation f1 score: 0.1312\n"
          ]
        },
        {
          "output_type": "stream",
          "name": "stderr",
          "text": [
            " 30%|███       | 3/10 [00:00<00:00,  8.81it/s]"
          ]
        },
        {
          "output_type": "stream",
          "name": "stdout",
          "text": [
            "Fold 5/5 - Epoch 3/10 - Validation f1 score: 0.1312\n"
          ]
        },
        {
          "output_type": "stream",
          "name": "stderr",
          "text": [
            " 40%|████      | 4/10 [00:00<00:00,  8.97it/s]"
          ]
        },
        {
          "output_type": "stream",
          "name": "stdout",
          "text": [
            "Fold 5/5 - Epoch 4/10 - Validation f1 score: 0.1312\n"
          ]
        },
        {
          "output_type": "stream",
          "name": "stderr",
          "text": [
            " 50%|█████     | 5/10 [00:00<00:00,  8.27it/s]"
          ]
        },
        {
          "output_type": "stream",
          "name": "stdout",
          "text": [
            "Fold 5/5 - Epoch 5/10 - Validation f1 score: 0.1312\n"
          ]
        },
        {
          "output_type": "stream",
          "name": "stderr",
          "text": [
            " 60%|██████    | 6/10 [00:00<00:00,  8.08it/s]"
          ]
        },
        {
          "output_type": "stream",
          "name": "stdout",
          "text": [
            "Fold 5/5 - Epoch 6/10 - Validation f1 score: 0.1312\n"
          ]
        },
        {
          "output_type": "stream",
          "name": "stderr",
          "text": [
            " 70%|███████   | 7/10 [00:00<00:00,  8.37it/s]"
          ]
        },
        {
          "output_type": "stream",
          "name": "stdout",
          "text": [
            "Fold 5/5 - Epoch 7/10 - Validation f1 score: 0.1312\n"
          ]
        },
        {
          "output_type": "stream",
          "name": "stderr",
          "text": [
            " 80%|████████  | 8/10 [00:00<00:00,  8.35it/s]"
          ]
        },
        {
          "output_type": "stream",
          "name": "stdout",
          "text": [
            "Fold 5/5 - Epoch 8/10 - Validation f1 score: 0.1312\n"
          ]
        },
        {
          "output_type": "stream",
          "name": "stderr",
          "text": [
            " 90%|█████████ | 9/10 [00:01<00:00,  8.49it/s]"
          ]
        },
        {
          "output_type": "stream",
          "name": "stdout",
          "text": [
            "Fold 5/5 - Epoch 9/10 - Validation f1 score: 0.1312\n"
          ]
        },
        {
          "output_type": "stream",
          "name": "stderr",
          "text": [
            "100%|██████████| 10/10 [00:01<00:00,  8.46it/s]"
          ]
        },
        {
          "output_type": "stream",
          "name": "stdout",
          "text": [
            "Fold 5/5 - Epoch 10/10 - Validation f1 score: 0.1312\n",
            "================================================================================\n",
            "================================================================================\n",
            "Average validation f1 score: 0.1297\n"
          ]
        },
        {
          "output_type": "stream",
          "name": "stderr",
          "text": [
            "\n"
          ]
        }
      ],
      "source": [
        "skf = StratifiedKFold(n_splits=5, shuffle=True, random_state=42)\n",
        "\n",
        "val_accs = np.zeros(5) \n",
        "\n",
        "for fold_idx, (train_idx, val_idx) in enumerate(skf.split(X, y)):\n",
        "    \n",
        "    # Split the data into training and validation sets\n",
        "    X_train_tfidf, y_train = X[train_idx], y[train_idx]\n",
        "    X_val_tfidf, y_val = X[val_idx], y[val_idx]\n",
        "    \n",
        "    # Initialize the Naive Bayes Classifier\n",
        "    mnb = MultinomialNB()\n",
        "    \n",
        "    for epoch in tqdm(range(10)):  # 10 epochs\n",
        "        \n",
        "        # Train the model on the training set\n",
        "        mnb.fit(X_train_tfidf, y_train)\n",
        "        \n",
        "        # Predict the labels of the validation set and compute the accuracy\n",
        "        y_val_pred = mnb.predict(X_val_tfidf)\n",
        "        val_f1 = f1_score(y_val, y_val_pred, average='weighted')\n",
        "        \n",
        "        # Update the progress bar\n",
        "        tqdm.write(f\"Fold {fold_idx + 1}/{skf.n_splits} - Epoch {epoch + 1}/10 - Validation f1 score: {val_f1:.4f}\")\n",
        "    \n",
        "    val_accs[fold_idx] = val_f1\n",
        "   \n",
        "    tqdm.write(\"=\" * 80)\n",
        "\n",
        "# Compute the average validation accuracy across all folds and epochs\n",
        "avg_val_f1 = np.mean(val_accs)\n",
        "\n",
        "# Display the final results\n",
        "print(\"=\" * 80)\n",
        "print(f\"Average validation f1 score: {avg_val_f1:.4f}\")\n"
      ]
    },
    {
      "cell_type": "markdown",
      "id": "4176394e",
      "metadata": {
        "id": "4176394e"
      },
      "source": [
        "Accuracy for 10k data Naive Bayes with tfidf is around 27%. "
      ]
    },
    {
      "cell_type": "code",
      "execution_count": null,
      "id": "6b19e426",
      "metadata": {
        "id": "6b19e426"
      },
      "outputs": [],
      "source": [
        "# Set the number of epochs and batch size\n",
        "epochs = 20\n",
        "batch_size = 256\n",
        "\n",
        "# Create a progress bar\n",
        "pbar = tqdm(total=epochs)\n",
        "\n",
        "skf = StratifiedKFold(n_splits=5, shuffle=True, random_state=42)\n",
        "\n",
        "val_accs = np.zeros(5) \n",
        "\n",
        "X= df['text']\n",
        "y=df['emotion'].values\n",
        "#print(set(y))\n",
        "nc=len(set(y))\n",
        "\n",
        "for fold_idx, (train_idx, val_idx) in enumerate(skf.split(X, y)):\n",
        "    \n",
        "    # Split the data into training and validation sets\n",
        "    X_train, y_train = X.iloc[train_idx], y[train_idx]\n",
        "    X_val, y_val = X.iloc[val_idx], y[val_idx]\n",
        "    \n",
        "    # Initialize a tokenizer and fit it on the training set\n",
        "    tokenizer = Tokenizer(num_words=50000)\n",
        "    tokenizer.fit_on_texts(X_train)\n",
        "    \n",
        "    # Convert the text to sequences and pad them\n",
        "    X_train_seq = pad_sequences(tokenizer.texts_to_sequences(X_train), maxlen=100)\n",
        "    X_val_seq = pad_sequences(tokenizer.texts_to_sequences(X_val), maxlen=100)\n",
        "    \n",
        "    # Encode the labels using one-hot encoding\n",
        "    y_train_enc = to_categorical(y_train)\n",
        "    y_val_enc = to_categorical(y_val)\n",
        "    \n",
        "    # Initialize the model\n",
        "    model = Sequential()\n",
        "    model.add(Embedding(10000, 2048, input_length=100))\n",
        "    model.add(Conv1D(2048, 2, activation='relu'))\n",
        "    model.add(GlobalMaxPooling1D())\n",
        "    model.add(Dense(nc*2, activation='relu'))\n",
        "    model.add(Dropout(0.5))\n",
        "    model.add(Dense(nc, activation='softmax'))\n",
        "    model.compile(loss='categorical_crossentropy', optimizer='adam', metrics=['accuracy', tf.keras.metrics.Precision(name='precision'),\n",
        "                       tf.keras.metrics.Recall(name='recall') ,tfa.metrics.F1Score(num_classes=28)])\n",
        "    \n",
        "    # Train the model\n",
        "    early_stopping = EarlyStopping(monitor='val_precision', patience=3, mode='max', restore_best_weights=True)\n",
        "    model.fit(X_train_seq, y_train_enc, validation_data=(X_val_seq, y_val_enc), epochs=epochs, batch_size=batch_size, callbacks=[early_stopping])\n",
        "    \n",
        "    y_pred_prob = model.predict(X_val_seq)\n",
        "\n",
        "    thresholds = [0.1, 0.2, 0.3, 0.4, 0.5, 0.6, 0.7, 0.8, 0.9]\n",
        "    for threshold in thresholds:\n",
        "      y_pred = np.argmax((y_pred_prob > threshold).astype(int),axis = 1)\n",
        "      f1 = f1_score(y_val, y_pred, average = 'weighted')\n",
        "      accuracy = accuracy_score(y_val, y_pred)\n",
        "      print('Threshold: {:.1f} \\t F1 score: {:.4f}'.format(threshold, f1))\n",
        "      print('Threshold: {:.1f} \\t Accuracy score: {:.4f}'.format(threshold, accuracy))\n",
        "\n",
        "    # Evaluate the model on the validation set and compute the accuracy\n",
        "    #y_val_pred = np.argmax(model.predict(X_val_seq), axis=-1)\n",
        "    #val_f1 = f1_score(y_val, y_val_pred, average='weighted')\n",
        "    val_accs[fold_idx] = f1\n",
        "    \n",
        "    # Update the progress bar\n",
        "    pbar.update(1)\n",
        "    pbar.set_description(f\"Fold {fold_idx + 1}/{skf.n_splits} - Validation f1 score: {val_f1:.4f}\")\n",
        "    \n",
        "    tqdm.write(\"=\" * 80)\n",
        "\n",
        "# Compute the average validation accuracy across all folds\n",
        "avg_val_f1 = np.mean(val_accs)\n",
        "\n",
        "# Display the final results\n",
        "print(\"=\" * 80)\n",
        "print(f\"Average validation f1 score: {avg_val_f1:.4f}\")\n"
      ]
    },
    {
      "cell_type": "markdown",
      "id": "f04c3041",
      "metadata": {
        "id": "f04c3041"
      },
      "source": [
        "Accuracy for 10k data on CNN model is 32%"
      ]
    },
    {
      "cell_type": "code",
      "execution_count": null,
      "id": "00a09366",
      "metadata": {
        "id": "00a09366",
        "outputId": "3e1e6cc2-0e83-4b6c-e8e7-4803e51b0093",
        "colab": {
          "base_uri": "https://localhost:8080/"
        }
      },
      "outputs": [
        {
          "output_type": "stream",
          "name": "stderr",
          "text": [
            "  0%|          | 0/10 [00:17<?, ?it/s]\n"
          ]
        },
        {
          "output_type": "stream",
          "name": "stdout",
          "text": [
            "{0, 1, 2, 3, 4, 5, 6, 7, 8, 9, 10, 11, 12, 13, 14, 15, 16, 17, 18, 19, 20, 21, 22, 23, 24, 25, 26, 27}\n",
            "63/63 [==============================] - 0s 4ms/step\n"
          ]
        },
        {
          "output_type": "stream",
          "name": "stderr",
          "text": [
            "Fold 1/5 - Validation f1 score: 0.1509:  10%|█         | 1/10 [00:34<05:06, 34.09s/it]"
          ]
        },
        {
          "output_type": "stream",
          "name": "stdout",
          "text": [
            "Threshold: 0.1 \t F1 score: 0.1687\n",
            "Threshold: 0.1 \t Accuracy score: 0.2989\n",
            "Threshold: 0.2 \t F1 score: 0.1883\n",
            "Threshold: 0.2 \t Accuracy score: 0.2979\n",
            "Threshold: 0.3 \t F1 score: 0.1659\n",
            "Threshold: 0.3 \t Accuracy score: 0.2263\n",
            "Threshold: 0.4 \t F1 score: 0.1179\n",
            "Threshold: 0.4 \t Accuracy score: 0.1557\n",
            "Threshold: 0.5 \t F1 score: 0.0732\n",
            "Threshold: 0.5 \t Accuracy score: 0.1202\n",
            "Threshold: 0.6 \t F1 score: 0.0491\n",
            "Threshold: 0.6 \t Accuracy score: 0.1047\n",
            "Threshold: 0.7 \t F1 score: 0.0355\n",
            "Threshold: 0.7 \t Accuracy score: 0.0931\n",
            "Threshold: 0.8 \t F1 score: 0.0147\n",
            "Threshold: 0.8 \t Accuracy score: 0.0786\n",
            "Threshold: 0.9 \t F1 score: 0.0109\n",
            "Threshold: 0.9 \t Accuracy score: 0.0766\n",
            "================================================================================\n",
            "63/63 [==============================] - 0s 2ms/step\n"
          ]
        },
        {
          "output_type": "stream",
          "name": "stderr",
          "text": [
            "Fold 2/5 - Validation f1 score: 0.1509:  20%|██        | 2/10 [00:56<03:38, 27.28s/it]"
          ]
        },
        {
          "output_type": "stream",
          "name": "stdout",
          "text": [
            "Threshold: 0.1 \t F1 score: 0.1958\n",
            "Threshold: 0.1 \t Accuracy score: 0.3285\n",
            "Threshold: 0.2 \t F1 score: 0.1682\n",
            "Threshold: 0.2 \t Accuracy score: 0.2884\n",
            "Threshold: 0.3 \t F1 score: 0.1506\n",
            "Threshold: 0.3 \t Accuracy score: 0.2148\n",
            "Threshold: 0.4 \t F1 score: 0.1181\n",
            "Threshold: 0.4 \t Accuracy score: 0.1527\n",
            "Threshold: 0.5 \t F1 score: 0.0708\n",
            "Threshold: 0.5 \t Accuracy score: 0.1117\n",
            "Threshold: 0.6 \t F1 score: 0.0371\n",
            "Threshold: 0.6 \t Accuracy score: 0.0931\n",
            "Threshold: 0.7 \t F1 score: 0.0177\n",
            "Threshold: 0.7 \t Accuracy score: 0.0801\n",
            "Threshold: 0.8 \t F1 score: 0.0119\n",
            "Threshold: 0.8 \t Accuracy score: 0.0771\n",
            "Threshold: 0.9 \t F1 score: 0.0109\n",
            "Threshold: 0.9 \t Accuracy score: 0.0766\n",
            "================================================================================\n",
            "63/63 [==============================] - 0s 4ms/step\n"
          ]
        },
        {
          "output_type": "stream",
          "name": "stderr",
          "text": [
            "Fold 3/5 - Validation f1 score: 0.1509:  30%|███       | 3/10 [01:18<02:54, 24.89s/it]"
          ]
        },
        {
          "output_type": "stream",
          "name": "stdout",
          "text": [
            "Threshold: 0.1 \t F1 score: 0.1855\n",
            "Threshold: 0.1 \t Accuracy score: 0.3101\n",
            "Threshold: 0.2 \t F1 score: 0.1781\n",
            "Threshold: 0.2 \t Accuracy score: 0.2745\n",
            "Threshold: 0.3 \t F1 score: 0.1520\n",
            "Threshold: 0.3 \t Accuracy score: 0.2099\n",
            "Threshold: 0.4 \t F1 score: 0.1075\n",
            "Threshold: 0.4 \t Accuracy score: 0.1473\n",
            "Threshold: 0.5 \t F1 score: 0.0723\n",
            "Threshold: 0.5 \t Accuracy score: 0.1192\n",
            "Threshold: 0.6 \t F1 score: 0.0480\n",
            "Threshold: 0.6 \t Accuracy score: 0.1047\n",
            "Threshold: 0.7 \t F1 score: 0.0340\n",
            "Threshold: 0.7 \t Accuracy score: 0.0902\n",
            "Threshold: 0.8 \t F1 score: 0.0148\n",
            "Threshold: 0.8 \t Accuracy score: 0.0787\n",
            "Threshold: 0.9 \t F1 score: 0.0109\n",
            "Threshold: 0.9 \t Accuracy score: 0.0767\n",
            "================================================================================\n",
            "63/63 [==============================] - 0s 2ms/step\n"
          ]
        },
        {
          "output_type": "stream",
          "name": "stderr",
          "text": [
            "Fold 4/5 - Validation f1 score: 0.1509:  40%|████      | 4/10 [01:36<02:12, 22.06s/it]"
          ]
        },
        {
          "output_type": "stream",
          "name": "stdout",
          "text": [
            "Threshold: 0.1 \t F1 score: 0.2078\n",
            "Threshold: 0.1 \t Accuracy score: 0.2901\n",
            "Threshold: 0.2 \t F1 score: 0.2023\n",
            "Threshold: 0.2 \t Accuracy score: 0.3056\n",
            "Threshold: 0.3 \t F1 score: 0.1566\n",
            "Threshold: 0.3 \t Accuracy score: 0.2255\n",
            "Threshold: 0.4 \t F1 score: 0.1223\n",
            "Threshold: 0.4 \t Accuracy score: 0.1643\n",
            "Threshold: 0.5 \t F1 score: 0.0820\n",
            "Threshold: 0.5 \t Accuracy score: 0.1258\n",
            "Threshold: 0.6 \t F1 score: 0.0505\n",
            "Threshold: 0.6 \t Accuracy score: 0.1047\n",
            "Threshold: 0.7 \t F1 score: 0.0342\n",
            "Threshold: 0.7 \t Accuracy score: 0.0907\n",
            "Threshold: 0.8 \t F1 score: 0.0139\n",
            "Threshold: 0.8 \t Accuracy score: 0.0782\n",
            "Threshold: 0.9 \t F1 score: 0.0109\n",
            "Threshold: 0.9 \t Accuracy score: 0.0767\n",
            "================================================================================\n",
            "63/63 [==============================] - 24s 2ms/step\n"
          ]
        },
        {
          "output_type": "stream",
          "name": "stderr",
          "text": [
            "Fold 5/5 - Validation f1 score: 0.1509:  50%|█████     | 5/10 [02:21<02:32, 30.50s/it]"
          ]
        },
        {
          "output_type": "stream",
          "name": "stdout",
          "text": [
            "Threshold: 0.1 \t F1 score: 0.1625\n",
            "Threshold: 0.1 \t Accuracy score: 0.3101\n",
            "Threshold: 0.2 \t F1 score: 0.1568\n",
            "Threshold: 0.2 \t Accuracy score: 0.2966\n",
            "Threshold: 0.3 \t F1 score: 0.1296\n",
            "Threshold: 0.3 \t Accuracy score: 0.1703\n",
            "Threshold: 0.4 \t F1 score: 0.0393\n",
            "Threshold: 0.4 \t Accuracy score: 0.1012\n",
            "Threshold: 0.5 \t F1 score: 0.0383\n",
            "Threshold: 0.5 \t Accuracy score: 0.1007\n",
            "Threshold: 0.6 \t F1 score: 0.0324\n",
            "Threshold: 0.6 \t Accuracy score: 0.0912\n",
            "Threshold: 0.7 \t F1 score: 0.0110\n",
            "Threshold: 0.7 \t Accuracy score: 0.0767\n",
            "Threshold: 0.8 \t F1 score: 0.0111\n",
            "Threshold: 0.8 \t Accuracy score: 0.0772\n",
            "Threshold: 0.9 \t F1 score: 0.0111\n",
            "Threshold: 0.9 \t Accuracy score: 0.0772\n",
            "================================================================================\n",
            "================================================================================\n",
            "Average validation f1 score: 0.0109\n"
          ]
        }
      ],
      "source": [
        "# Set the number of epochs and batch size\n",
        "epochs = 10\n",
        "batch_size = 128\n",
        "\n",
        "# Create a progress bar\n",
        "pbar = tqdm(total=epochs)\n",
        "\n",
        "skf = StratifiedKFold(n_splits=5, shuffle=True, random_state=42)\n",
        "\n",
        "val_accs = np.zeros(5) \n",
        "\n",
        "X= df['text']\n",
        "y=df['emotion'].values\n",
        "nc=len(set(y))\n",
        "\n",
        "for fold_idx, (train_idx, val_idx) in enumerate(skf.split(X, y)):\n",
        "    \n",
        "    # Split the data into training and validation sets\n",
        "    X_train, y_train = X.iloc[train_idx], y[train_idx]\n",
        "    X_val, y_val = X.iloc[val_idx], y[val_idx]\n",
        "    \n",
        "    # Initialize a tokenizer and fit it on the training set\n",
        "    tokenizer = Tokenizer(num_words=5000)\n",
        "    tokenizer.fit_on_texts(X_train)\n",
        "    \n",
        "    # Convert the text to sequences and pad them\n",
        "    X_train_seq = pad_sequences(tokenizer.texts_to_sequences(X_train), maxlen=100)\n",
        "    X_val_seq = pad_sequences(tokenizer.texts_to_sequences(X_val), maxlen=100)\n",
        "    \n",
        "    # Encode the labels using one-hot encoding\n",
        "    le = LabelEncoder()\n",
        "    y_train_enc = to_categorical(y_train)\n",
        "    y_val_enc = to_categorical(y_val)\n",
        "    \n",
        "    # Initialize the model\n",
        "    model = Sequential()\n",
        "    model.add(Embedding(5000, 100, input_length=100))\n",
        "    model.add(Conv1D(100, 2, activation='relu'))\n",
        "    model.add(GlobalMaxPooling1D())\n",
        "    model.add(Dense(nc*10, activation='relu'))\n",
        "    model.add(Dropout(0.5))\n",
        "    model.add(Dense(nc, activation='softmax'))\n",
        "    model.compile(loss='categorical_crossentropy', optimizer='adam', metrics=['accuracy', tf.keras.metrics.Precision(name='precision'),\n",
        "                       tf.keras.metrics.Recall(name='recall') ,tfa.metrics.F1Score(num_classes=28)])\n",
        "    \n",
        "    # Train the model\n",
        "    early_stopping = EarlyStopping(monitor='val_precision', patience=3, mode='max', restore_best_weights=True)\n",
        "    model.fit(X_train_seq, y_train_enc, validation_data=(X_val_seq, y_val_enc), epochs=epochs, batch_size=batch_size, callbacks=[early_stopping])\n",
        "    \n",
        "    y_pred_prob = model.predict(X_val_seq)\n",
        "\n",
        "    thresholds = [0.1, 0.2, 0.3, 0.4, 0.5, 0.6, 0.7, 0.8, 0.9]\n",
        "    for threshold in thresholds:\n",
        "      y_pred = np.argmax((y_pred_prob > threshold).astype(int),axis = 1)\n",
        "      f1 = f1_score(y_val, y_pred, average = 'weighted')\n",
        "      accuracy = accuracy_score(y_val, y_pred)\n",
        "      print('Threshold: {:.1f} \\t F1 score: {:.4f}'.format(threshold, f1))\n",
        "      print('Threshold: {:.1f} \\t Accuracy score: {:.4f}'.format(threshold, accuracy))\n",
        "\n",
        "    # Evaluate the model on the validation set and compute the accuracy\n",
        "    #y_val_pred = np.argmax(model.predict(X_val_seq), axis=-1)\n",
        "    #val_f1 = f1_score(y_val, y_val_pred, average='weighted')\n",
        "    val_accs[fold_idx] = f1\n",
        "    \n",
        "    # Update the progress bar\n",
        "    pbar.update(1)\n",
        "    pbar.set_description(f\"Fold {fold_idx + 1}/{skf.n_splits} - Validation f1 score: {val_f1:.4f}\")\n",
        "    \n",
        "    tqdm.write(\"=\" * 80)\n",
        "\n",
        "# Compute the average validation accuracy across all folds\n",
        "avg_val_f1 = np.mean(val_accs)\n",
        "\n",
        "# Display the final results\n",
        "print(\"=\" * 80)\n",
        "print(f\"Average validation f1 score: {avg_val_f1:.4f}\")\n"
      ]
    },
    {
      "cell_type": "markdown",
      "id": "19d3a5e7",
      "metadata": {
        "id": "19d3a5e7"
      },
      "source": [
        "Not much change even after tuning hyperparameters"
      ]
    },
    {
      "cell_type": "code",
      "execution_count": null,
      "id": "75bc81b7",
      "metadata": {
        "id": "75bc81b7",
        "outputId": "ad8df618-e52a-41d7-f442-45c4ae04419f",
        "colab": {
          "base_uri": "https://localhost:8080/"
        }
      },
      "outputs": [
        {
          "output_type": "stream",
          "name": "stderr",
          "text": [
            "\n",
            "\n",
            "Fold 5/5 - Validation f1 score: 0.1509:  50%|█████     | 5/10 [05:12<02:32, 30.50s/it]\n",
            "  0%|          | 0/10 [00:02<?, ?it/s]\u001b[A\n",
            " 10%|█         | 1/10 [00:02<00:22,  2.46s/it]\u001b[A"
          ]
        },
        {
          "output_type": "stream",
          "name": "stdout",
          "text": [
            "Threshold: 0.1 \t F1 score: 0.0328\n",
            "Threshold: 0.1 \t Accuracy score: 0.0526\n",
            "Threshold: 0.2 \t F1 score: 0.1352\n",
            "Threshold: 0.2 \t Accuracy score: 0.2814\n",
            "Threshold: 0.3 \t F1 score: 0.1346\n",
            "Threshold: 0.3 \t Accuracy score: 0.2834\n",
            "Threshold: 0.4 \t F1 score: 0.1395\n",
            "Threshold: 0.4 \t Accuracy score: 0.2794\n",
            "Threshold: 0.5 \t F1 score: 0.0518\n",
            "Threshold: 0.5 \t Accuracy score: 0.0976\n",
            "Threshold: 0.6 \t F1 score: 0.0211\n",
            "Threshold: 0.6 \t Accuracy score: 0.0816\n",
            "Threshold: 0.7 \t F1 score: 0.0201\n",
            "Threshold: 0.7 \t Accuracy score: 0.0811\n",
            "Threshold: 0.8 \t F1 score: 0.0156\n",
            "Threshold: 0.8 \t Accuracy score: 0.0786\n",
            "Threshold: 0.9 \t F1 score: 0.0138\n",
            "Threshold: 0.9 \t Accuracy score: 0.0781\n",
            "Fold 1/5 - Epoch 1/10 - Validation f1 score: 0.1509\n"
          ]
        },
        {
          "output_type": "stream",
          "name": "stderr",
          "text": [
            "\n",
            "Fold 5/5 - Validation f1 score: 0.1509:  50%|█████     | 5/10 [05:14<02:32, 30.50s/it]\n",
            " 10%|█         | 1/10 [00:04<00:22,  2.46s/it]\u001b[A\n",
            " 20%|██        | 2/10 [00:04<00:18,  2.30s/it]\u001b[A"
          ]
        },
        {
          "output_type": "stream",
          "name": "stdout",
          "text": [
            "Threshold: 0.1 \t F1 score: 0.0328\n",
            "Threshold: 0.1 \t Accuracy score: 0.0526\n",
            "Threshold: 0.2 \t F1 score: 0.1352\n",
            "Threshold: 0.2 \t Accuracy score: 0.2814\n",
            "Threshold: 0.3 \t F1 score: 0.1346\n",
            "Threshold: 0.3 \t Accuracy score: 0.2834\n",
            "Threshold: 0.4 \t F1 score: 0.1395\n",
            "Threshold: 0.4 \t Accuracy score: 0.2794\n",
            "Threshold: 0.5 \t F1 score: 0.0518\n",
            "Threshold: 0.5 \t Accuracy score: 0.0976\n",
            "Threshold: 0.6 \t F1 score: 0.0211\n",
            "Threshold: 0.6 \t Accuracy score: 0.0816\n",
            "Threshold: 0.7 \t F1 score: 0.0201\n",
            "Threshold: 0.7 \t Accuracy score: 0.0811\n",
            "Threshold: 0.8 \t F1 score: 0.0156\n",
            "Threshold: 0.8 \t Accuracy score: 0.0786\n",
            "Threshold: 0.9 \t F1 score: 0.0138\n",
            "Threshold: 0.9 \t Accuracy score: 0.0781\n",
            "Fold 1/5 - Epoch 2/10 - Validation f1 score: 0.1509\n"
          ]
        },
        {
          "output_type": "stream",
          "name": "stderr",
          "text": [
            "\n",
            "Fold 5/5 - Validation f1 score: 0.1509:  50%|█████     | 5/10 [05:17<02:32, 30.50s/it]\n",
            " 20%|██        | 2/10 [00:06<00:18,  2.30s/it]\u001b[A\n",
            " 30%|███       | 3/10 [00:06<00:15,  2.25s/it]\u001b[A"
          ]
        },
        {
          "output_type": "stream",
          "name": "stdout",
          "text": [
            "Threshold: 0.1 \t F1 score: 0.0328\n",
            "Threshold: 0.1 \t Accuracy score: 0.0526\n",
            "Threshold: 0.2 \t F1 score: 0.1352\n",
            "Threshold: 0.2 \t Accuracy score: 0.2814\n",
            "Threshold: 0.3 \t F1 score: 0.1346\n",
            "Threshold: 0.3 \t Accuracy score: 0.2834\n",
            "Threshold: 0.4 \t F1 score: 0.1395\n",
            "Threshold: 0.4 \t Accuracy score: 0.2794\n",
            "Threshold: 0.5 \t F1 score: 0.0518\n",
            "Threshold: 0.5 \t Accuracy score: 0.0976\n",
            "Threshold: 0.6 \t F1 score: 0.0211\n",
            "Threshold: 0.6 \t Accuracy score: 0.0816\n",
            "Threshold: 0.7 \t F1 score: 0.0201\n",
            "Threshold: 0.7 \t Accuracy score: 0.0811\n",
            "Threshold: 0.8 \t F1 score: 0.0156\n",
            "Threshold: 0.8 \t Accuracy score: 0.0786\n",
            "Threshold: 0.9 \t F1 score: 0.0138\n",
            "Threshold: 0.9 \t Accuracy score: 0.0781\n",
            "Fold 1/5 - Epoch 3/10 - Validation f1 score: 0.1509\n"
          ]
        },
        {
          "output_type": "stream",
          "name": "stderr",
          "text": [
            "\n",
            "Fold 5/5 - Validation f1 score: 0.1509:  50%|█████     | 5/10 [05:19<02:32, 30.50s/it]\n",
            " 30%|███       | 3/10 [00:09<00:15,  2.25s/it]\u001b[A\n",
            " 40%|████      | 4/10 [00:09<00:13,  2.25s/it]\u001b[A"
          ]
        },
        {
          "output_type": "stream",
          "name": "stdout",
          "text": [
            "Threshold: 0.1 \t F1 score: 0.0328\n",
            "Threshold: 0.1 \t Accuracy score: 0.0526\n",
            "Threshold: 0.2 \t F1 score: 0.1352\n",
            "Threshold: 0.2 \t Accuracy score: 0.2814\n",
            "Threshold: 0.3 \t F1 score: 0.1346\n",
            "Threshold: 0.3 \t Accuracy score: 0.2834\n",
            "Threshold: 0.4 \t F1 score: 0.1395\n",
            "Threshold: 0.4 \t Accuracy score: 0.2794\n",
            "Threshold: 0.5 \t F1 score: 0.0518\n",
            "Threshold: 0.5 \t Accuracy score: 0.0976\n",
            "Threshold: 0.6 \t F1 score: 0.0211\n",
            "Threshold: 0.6 \t Accuracy score: 0.0816\n",
            "Threshold: 0.7 \t F1 score: 0.0201\n",
            "Threshold: 0.7 \t Accuracy score: 0.0811\n",
            "Threshold: 0.8 \t F1 score: 0.0156\n",
            "Threshold: 0.8 \t Accuracy score: 0.0786\n",
            "Threshold: 0.9 \t F1 score: 0.0138\n",
            "Threshold: 0.9 \t Accuracy score: 0.0781\n",
            "Fold 1/5 - Epoch 4/10 - Validation f1 score: 0.1509\n"
          ]
        },
        {
          "output_type": "stream",
          "name": "stderr",
          "text": [
            "\n",
            "Fold 5/5 - Validation f1 score: 0.1509:  50%|█████     | 5/10 [05:22<02:32, 30.50s/it]\n",
            " 40%|████      | 4/10 [00:12<00:13,  2.25s/it]\u001b[A\n",
            " 50%|█████     | 5/10 [00:12<00:12,  2.57s/it]\u001b[A"
          ]
        },
        {
          "output_type": "stream",
          "name": "stdout",
          "text": [
            "Threshold: 0.1 \t F1 score: 0.0328\n",
            "Threshold: 0.1 \t Accuracy score: 0.0526\n",
            "Threshold: 0.2 \t F1 score: 0.1352\n",
            "Threshold: 0.2 \t Accuracy score: 0.2814\n",
            "Threshold: 0.3 \t F1 score: 0.1346\n",
            "Threshold: 0.3 \t Accuracy score: 0.2834\n",
            "Threshold: 0.4 \t F1 score: 0.1395\n",
            "Threshold: 0.4 \t Accuracy score: 0.2794\n",
            "Threshold: 0.5 \t F1 score: 0.0518\n",
            "Threshold: 0.5 \t Accuracy score: 0.0976\n",
            "Threshold: 0.6 \t F1 score: 0.0211\n",
            "Threshold: 0.6 \t Accuracy score: 0.0816\n",
            "Threshold: 0.7 \t F1 score: 0.0201\n",
            "Threshold: 0.7 \t Accuracy score: 0.0811\n",
            "Threshold: 0.8 \t F1 score: 0.0156\n",
            "Threshold: 0.8 \t Accuracy score: 0.0786\n",
            "Threshold: 0.9 \t F1 score: 0.0138\n",
            "Threshold: 0.9 \t Accuracy score: 0.0781\n",
            "Fold 1/5 - Epoch 5/10 - Validation f1 score: 0.1509\n"
          ]
        },
        {
          "output_type": "stream",
          "name": "stderr",
          "text": [
            "\n",
            "Fold 5/5 - Validation f1 score: 0.1509:  50%|█████     | 5/10 [05:25<02:32, 30.50s/it]\n",
            " 50%|█████     | 5/10 [00:15<00:12,  2.57s/it]\u001b[A\n",
            " 60%|██████    | 6/10 [00:15<00:11,  2.82s/it]\u001b[A"
          ]
        },
        {
          "output_type": "stream",
          "name": "stdout",
          "text": [
            "Threshold: 0.1 \t F1 score: 0.0328\n",
            "Threshold: 0.1 \t Accuracy score: 0.0526\n",
            "Threshold: 0.2 \t F1 score: 0.1352\n",
            "Threshold: 0.2 \t Accuracy score: 0.2814\n",
            "Threshold: 0.3 \t F1 score: 0.1346\n",
            "Threshold: 0.3 \t Accuracy score: 0.2834\n",
            "Threshold: 0.4 \t F1 score: 0.1395\n",
            "Threshold: 0.4 \t Accuracy score: 0.2794\n",
            "Threshold: 0.5 \t F1 score: 0.0518\n",
            "Threshold: 0.5 \t Accuracy score: 0.0976\n",
            "Threshold: 0.6 \t F1 score: 0.0211\n",
            "Threshold: 0.6 \t Accuracy score: 0.0816\n",
            "Threshold: 0.7 \t F1 score: 0.0201\n",
            "Threshold: 0.7 \t Accuracy score: 0.0811\n",
            "Threshold: 0.8 \t F1 score: 0.0156\n",
            "Threshold: 0.8 \t Accuracy score: 0.0786\n",
            "Threshold: 0.9 \t F1 score: 0.0138\n",
            "Threshold: 0.9 \t Accuracy score: 0.0781\n",
            "Fold 1/5 - Epoch 6/10 - Validation f1 score: 0.1509\n"
          ]
        },
        {
          "output_type": "stream",
          "name": "stderr",
          "text": [
            "\n",
            "Fold 5/5 - Validation f1 score: 0.1509:  50%|█████     | 5/10 [05:27<02:32, 30.50s/it]\n",
            " 60%|██████    | 6/10 [00:17<00:11,  2.82s/it]\u001b[A\n",
            " 70%|███████   | 7/10 [00:17<00:07,  2.64s/it]\u001b[A"
          ]
        },
        {
          "output_type": "stream",
          "name": "stdout",
          "text": [
            "Threshold: 0.1 \t F1 score: 0.0328\n",
            "Threshold: 0.1 \t Accuracy score: 0.0526\n",
            "Threshold: 0.2 \t F1 score: 0.1352\n",
            "Threshold: 0.2 \t Accuracy score: 0.2814\n",
            "Threshold: 0.3 \t F1 score: 0.1346\n",
            "Threshold: 0.3 \t Accuracy score: 0.2834\n",
            "Threshold: 0.4 \t F1 score: 0.1395\n",
            "Threshold: 0.4 \t Accuracy score: 0.2794\n",
            "Threshold: 0.5 \t F1 score: 0.0518\n",
            "Threshold: 0.5 \t Accuracy score: 0.0976\n",
            "Threshold: 0.6 \t F1 score: 0.0211\n",
            "Threshold: 0.6 \t Accuracy score: 0.0816\n",
            "Threshold: 0.7 \t F1 score: 0.0201\n",
            "Threshold: 0.7 \t Accuracy score: 0.0811\n",
            "Threshold: 0.8 \t F1 score: 0.0156\n",
            "Threshold: 0.8 \t Accuracy score: 0.0786\n",
            "Threshold: 0.9 \t F1 score: 0.0138\n",
            "Threshold: 0.9 \t Accuracy score: 0.0781\n",
            "Fold 1/5 - Epoch 7/10 - Validation f1 score: 0.1509\n"
          ]
        },
        {
          "output_type": "stream",
          "name": "stderr",
          "text": [
            "\n",
            "Fold 5/5 - Validation f1 score: 0.1509:  50%|█████     | 5/10 [05:30<02:32, 30.50s/it]\n",
            " 70%|███████   | 7/10 [00:19<00:07,  2.64s/it]\u001b[A\n",
            " 80%|████████  | 8/10 [00:19<00:04,  2.49s/it]\u001b[A"
          ]
        },
        {
          "output_type": "stream",
          "name": "stdout",
          "text": [
            "Threshold: 0.1 \t F1 score: 0.0328\n",
            "Threshold: 0.1 \t Accuracy score: 0.0526\n",
            "Threshold: 0.2 \t F1 score: 0.1352\n",
            "Threshold: 0.2 \t Accuracy score: 0.2814\n",
            "Threshold: 0.3 \t F1 score: 0.1346\n",
            "Threshold: 0.3 \t Accuracy score: 0.2834\n",
            "Threshold: 0.4 \t F1 score: 0.1395\n",
            "Threshold: 0.4 \t Accuracy score: 0.2794\n",
            "Threshold: 0.5 \t F1 score: 0.0518\n",
            "Threshold: 0.5 \t Accuracy score: 0.0976\n",
            "Threshold: 0.6 \t F1 score: 0.0211\n",
            "Threshold: 0.6 \t Accuracy score: 0.0816\n",
            "Threshold: 0.7 \t F1 score: 0.0201\n",
            "Threshold: 0.7 \t Accuracy score: 0.0811\n",
            "Threshold: 0.8 \t F1 score: 0.0156\n",
            "Threshold: 0.8 \t Accuracy score: 0.0786\n",
            "Threshold: 0.9 \t F1 score: 0.0138\n",
            "Threshold: 0.9 \t Accuracy score: 0.0781\n",
            "Fold 1/5 - Epoch 8/10 - Validation f1 score: 0.1509\n"
          ]
        },
        {
          "output_type": "stream",
          "name": "stderr",
          "text": [
            "\n",
            "Fold 5/5 - Validation f1 score: 0.1509:  50%|█████     | 5/10 [05:32<02:32, 30.50s/it]\n",
            " 80%|████████  | 8/10 [00:22<00:04,  2.49s/it]\u001b[A\n",
            " 90%|█████████ | 9/10 [00:22<00:02,  2.40s/it]\u001b[A"
          ]
        },
        {
          "output_type": "stream",
          "name": "stdout",
          "text": [
            "Threshold: 0.1 \t F1 score: 0.0328\n",
            "Threshold: 0.1 \t Accuracy score: 0.0526\n",
            "Threshold: 0.2 \t F1 score: 0.1352\n",
            "Threshold: 0.2 \t Accuracy score: 0.2814\n",
            "Threshold: 0.3 \t F1 score: 0.1346\n",
            "Threshold: 0.3 \t Accuracy score: 0.2834\n",
            "Threshold: 0.4 \t F1 score: 0.1395\n",
            "Threshold: 0.4 \t Accuracy score: 0.2794\n",
            "Threshold: 0.5 \t F1 score: 0.0518\n",
            "Threshold: 0.5 \t Accuracy score: 0.0976\n",
            "Threshold: 0.6 \t F1 score: 0.0211\n",
            "Threshold: 0.6 \t Accuracy score: 0.0816\n",
            "Threshold: 0.7 \t F1 score: 0.0201\n",
            "Threshold: 0.7 \t Accuracy score: 0.0811\n",
            "Threshold: 0.8 \t F1 score: 0.0156\n",
            "Threshold: 0.8 \t Accuracy score: 0.0786\n",
            "Threshold: 0.9 \t F1 score: 0.0138\n",
            "Threshold: 0.9 \t Accuracy score: 0.0781\n",
            "Fold 1/5 - Epoch 9/10 - Validation f1 score: 0.1509\n"
          ]
        },
        {
          "output_type": "stream",
          "name": "stderr",
          "text": [
            "\n",
            "Fold 5/5 - Validation f1 score: 0.1509:  50%|█████     | 5/10 [05:34<02:32, 30.50s/it]\n",
            " 90%|█████████ | 9/10 [00:24<00:02,  2.40s/it]\u001b[A\n",
            "100%|██████████| 10/10 [00:24<00:00,  2.44s/it]\n",
            "Fold 5/5 - Validation f1 score: 0.1509:  50%|█████     | 5/10 [05:34<02:32, 30.50s/it]"
          ]
        },
        {
          "output_type": "stream",
          "name": "stdout",
          "text": [
            "Threshold: 0.1 \t F1 score: 0.0328\n",
            "Threshold: 0.1 \t Accuracy score: 0.0526\n",
            "Threshold: 0.2 \t F1 score: 0.1352\n",
            "Threshold: 0.2 \t Accuracy score: 0.2814\n",
            "Threshold: 0.3 \t F1 score: 0.1346\n",
            "Threshold: 0.3 \t Accuracy score: 0.2834\n",
            "Threshold: 0.4 \t F1 score: 0.1395\n",
            "Threshold: 0.4 \t Accuracy score: 0.2794\n",
            "Threshold: 0.5 \t F1 score: 0.0518\n",
            "Threshold: 0.5 \t Accuracy score: 0.0976\n",
            "Threshold: 0.6 \t F1 score: 0.0211\n",
            "Threshold: 0.6 \t Accuracy score: 0.0816\n",
            "Threshold: 0.7 \t F1 score: 0.0201\n",
            "Threshold: 0.7 \t Accuracy score: 0.0811\n",
            "Threshold: 0.8 \t F1 score: 0.0156\n",
            "Threshold: 0.8 \t Accuracy score: 0.0786\n",
            "Threshold: 0.9 \t F1 score: 0.0138\n",
            "Threshold: 0.9 \t Accuracy score: 0.0781\n",
            "Fold 1/5 - Epoch 10/10 - Validation f1 score: 0.1509\n",
            "================================================================================\n"
          ]
        },
        {
          "output_type": "stream",
          "name": "stderr",
          "text": [
            "\n",
            "\n",
            "Fold 5/5 - Validation f1 score: 0.1509:  50%|█████     | 5/10 [05:38<02:32, 30.50s/it]\n",
            "  0%|          | 0/10 [00:03<?, ?it/s]\u001b[A\n",
            " 10%|█         | 1/10 [00:03<00:32,  3.63s/it]\u001b[A"
          ]
        },
        {
          "output_type": "stream",
          "name": "stdout",
          "text": [
            "Threshold: 0.1 \t F1 score: 0.0360\n",
            "Threshold: 0.1 \t Accuracy score: 0.0556\n",
            "Threshold: 0.2 \t F1 score: 0.1430\n",
            "Threshold: 0.2 \t Accuracy score: 0.2834\n",
            "Threshold: 0.3 \t F1 score: 0.1391\n",
            "Threshold: 0.3 \t Accuracy score: 0.2809\n",
            "Threshold: 0.4 \t F1 score: 0.1440\n",
            "Threshold: 0.4 \t Accuracy score: 0.2674\n",
            "Threshold: 0.5 \t F1 score: 0.0429\n",
            "Threshold: 0.5 \t Accuracy score: 0.0916\n",
            "Threshold: 0.6 \t F1 score: 0.0240\n",
            "Threshold: 0.6 \t Accuracy score: 0.0831\n",
            "Threshold: 0.7 \t F1 score: 0.0218\n",
            "Threshold: 0.7 \t Accuracy score: 0.0826\n",
            "Threshold: 0.8 \t F1 score: 0.0181\n",
            "Threshold: 0.8 \t Accuracy score: 0.0806\n",
            "Threshold: 0.9 \t F1 score: 0.0181\n",
            "Threshold: 0.9 \t Accuracy score: 0.0806\n",
            "Fold 2/5 - Epoch 1/10 - Validation f1 score: 0.1509\n"
          ]
        },
        {
          "output_type": "stream",
          "name": "stderr",
          "text": [
            "\n",
            "Fold 5/5 - Validation f1 score: 0.1509:  50%|█████     | 5/10 [05:41<02:32, 30.50s/it]\n",
            " 10%|█         | 1/10 [00:06<00:32,  3.63s/it]\u001b[A\n",
            " 20%|██        | 2/10 [00:06<00:24,  3.05s/it]\u001b[A"
          ]
        },
        {
          "output_type": "stream",
          "name": "stdout",
          "text": [
            "Threshold: 0.1 \t F1 score: 0.0360\n",
            "Threshold: 0.1 \t Accuracy score: 0.0556\n",
            "Threshold: 0.2 \t F1 score: 0.1430\n",
            "Threshold: 0.2 \t Accuracy score: 0.2834\n",
            "Threshold: 0.3 \t F1 score: 0.1391\n",
            "Threshold: 0.3 \t Accuracy score: 0.2809\n",
            "Threshold: 0.4 \t F1 score: 0.1440\n",
            "Threshold: 0.4 \t Accuracy score: 0.2674\n",
            "Threshold: 0.5 \t F1 score: 0.0429\n",
            "Threshold: 0.5 \t Accuracy score: 0.0916\n",
            "Threshold: 0.6 \t F1 score: 0.0240\n",
            "Threshold: 0.6 \t Accuracy score: 0.0831\n",
            "Threshold: 0.7 \t F1 score: 0.0218\n",
            "Threshold: 0.7 \t Accuracy score: 0.0826\n",
            "Threshold: 0.8 \t F1 score: 0.0181\n",
            "Threshold: 0.8 \t Accuracy score: 0.0806\n",
            "Threshold: 0.9 \t F1 score: 0.0181\n",
            "Threshold: 0.9 \t Accuracy score: 0.0806\n",
            "Fold 2/5 - Epoch 2/10 - Validation f1 score: 0.1509\n"
          ]
        },
        {
          "output_type": "stream",
          "name": "stderr",
          "text": [
            "\n",
            "Fold 5/5 - Validation f1 score: 0.1509:  50%|█████     | 5/10 [05:43<02:32, 30.50s/it]\n",
            " 20%|██        | 2/10 [00:08<00:24,  3.05s/it]\u001b[A\n",
            " 30%|███       | 3/10 [00:08<00:18,  2.65s/it]\u001b[A"
          ]
        },
        {
          "output_type": "stream",
          "name": "stdout",
          "text": [
            "Threshold: 0.1 \t F1 score: 0.0360\n",
            "Threshold: 0.1 \t Accuracy score: 0.0556\n",
            "Threshold: 0.2 \t F1 score: 0.1430\n",
            "Threshold: 0.2 \t Accuracy score: 0.2834\n",
            "Threshold: 0.3 \t F1 score: 0.1391\n",
            "Threshold: 0.3 \t Accuracy score: 0.2809\n",
            "Threshold: 0.4 \t F1 score: 0.1440\n",
            "Threshold: 0.4 \t Accuracy score: 0.2674\n",
            "Threshold: 0.5 \t F1 score: 0.0429\n",
            "Threshold: 0.5 \t Accuracy score: 0.0916\n",
            "Threshold: 0.6 \t F1 score: 0.0240\n",
            "Threshold: 0.6 \t Accuracy score: 0.0831\n",
            "Threshold: 0.7 \t F1 score: 0.0218\n",
            "Threshold: 0.7 \t Accuracy score: 0.0826\n",
            "Threshold: 0.8 \t F1 score: 0.0181\n",
            "Threshold: 0.8 \t Accuracy score: 0.0806\n",
            "Threshold: 0.9 \t F1 score: 0.0181\n",
            "Threshold: 0.9 \t Accuracy score: 0.0806\n",
            "Fold 2/5 - Epoch 3/10 - Validation f1 score: 0.1509\n"
          ]
        },
        {
          "output_type": "stream",
          "name": "stderr",
          "text": [
            "\n",
            "Fold 5/5 - Validation f1 score: 0.1509:  50%|█████     | 5/10 [05:45<02:32, 30.50s/it]\n",
            " 30%|███       | 3/10 [00:10<00:18,  2.65s/it]\u001b[A\n",
            " 40%|████      | 4/10 [00:10<00:14,  2.46s/it]\u001b[A"
          ]
        },
        {
          "output_type": "stream",
          "name": "stdout",
          "text": [
            "Threshold: 0.1 \t F1 score: 0.0360\n",
            "Threshold: 0.1 \t Accuracy score: 0.0556\n",
            "Threshold: 0.2 \t F1 score: 0.1430\n",
            "Threshold: 0.2 \t Accuracy score: 0.2834\n",
            "Threshold: 0.3 \t F1 score: 0.1391\n",
            "Threshold: 0.3 \t Accuracy score: 0.2809\n",
            "Threshold: 0.4 \t F1 score: 0.1440\n",
            "Threshold: 0.4 \t Accuracy score: 0.2674\n",
            "Threshold: 0.5 \t F1 score: 0.0429\n",
            "Threshold: 0.5 \t Accuracy score: 0.0916\n",
            "Threshold: 0.6 \t F1 score: 0.0240\n",
            "Threshold: 0.6 \t Accuracy score: 0.0831\n",
            "Threshold: 0.7 \t F1 score: 0.0218\n",
            "Threshold: 0.7 \t Accuracy score: 0.0826\n",
            "Threshold: 0.8 \t F1 score: 0.0181\n",
            "Threshold: 0.8 \t Accuracy score: 0.0806\n",
            "Threshold: 0.9 \t F1 score: 0.0181\n",
            "Threshold: 0.9 \t Accuracy score: 0.0806\n",
            "Fold 2/5 - Epoch 4/10 - Validation f1 score: 0.1509\n"
          ]
        },
        {
          "output_type": "stream",
          "name": "stderr",
          "text": [
            "\n",
            "Fold 5/5 - Validation f1 score: 0.1509:  50%|█████     | 5/10 [05:47<02:32, 30.50s/it]\n",
            " 40%|████      | 4/10 [00:12<00:14,  2.46s/it]\u001b[A\n",
            " 50%|█████     | 5/10 [00:12<00:11,  2.34s/it]\u001b[A"
          ]
        },
        {
          "output_type": "stream",
          "name": "stdout",
          "text": [
            "Threshold: 0.1 \t F1 score: 0.0360\n",
            "Threshold: 0.1 \t Accuracy score: 0.0556\n",
            "Threshold: 0.2 \t F1 score: 0.1430\n",
            "Threshold: 0.2 \t Accuracy score: 0.2834\n",
            "Threshold: 0.3 \t F1 score: 0.1391\n",
            "Threshold: 0.3 \t Accuracy score: 0.2809\n",
            "Threshold: 0.4 \t F1 score: 0.1440\n",
            "Threshold: 0.4 \t Accuracy score: 0.2674\n",
            "Threshold: 0.5 \t F1 score: 0.0429\n",
            "Threshold: 0.5 \t Accuracy score: 0.0916\n",
            "Threshold: 0.6 \t F1 score: 0.0240\n",
            "Threshold: 0.6 \t Accuracy score: 0.0831\n",
            "Threshold: 0.7 \t F1 score: 0.0218\n",
            "Threshold: 0.7 \t Accuracy score: 0.0826\n",
            "Threshold: 0.8 \t F1 score: 0.0181\n",
            "Threshold: 0.8 \t Accuracy score: 0.0806\n",
            "Threshold: 0.9 \t F1 score: 0.0181\n",
            "Threshold: 0.9 \t Accuracy score: 0.0806\n",
            "Fold 2/5 - Epoch 5/10 - Validation f1 score: 0.1509\n"
          ]
        },
        {
          "output_type": "stream",
          "name": "stderr",
          "text": [
            "\n",
            "Fold 5/5 - Validation f1 score: 0.1509:  50%|█████     | 5/10 [05:49<02:32, 30.50s/it]\n",
            " 50%|█████     | 5/10 [00:15<00:11,  2.34s/it]\u001b[A\n",
            " 60%|██████    | 6/10 [00:15<00:09,  2.31s/it]\u001b[A"
          ]
        },
        {
          "output_type": "stream",
          "name": "stdout",
          "text": [
            "Threshold: 0.1 \t F1 score: 0.0360\n",
            "Threshold: 0.1 \t Accuracy score: 0.0556\n",
            "Threshold: 0.2 \t F1 score: 0.1430\n",
            "Threshold: 0.2 \t Accuracy score: 0.2834\n",
            "Threshold: 0.3 \t F1 score: 0.1391\n",
            "Threshold: 0.3 \t Accuracy score: 0.2809\n",
            "Threshold: 0.4 \t F1 score: 0.1440\n",
            "Threshold: 0.4 \t Accuracy score: 0.2674\n",
            "Threshold: 0.5 \t F1 score: 0.0429\n",
            "Threshold: 0.5 \t Accuracy score: 0.0916\n",
            "Threshold: 0.6 \t F1 score: 0.0240\n",
            "Threshold: 0.6 \t Accuracy score: 0.0831\n",
            "Threshold: 0.7 \t F1 score: 0.0218\n",
            "Threshold: 0.7 \t Accuracy score: 0.0826\n",
            "Threshold: 0.8 \t F1 score: 0.0181\n",
            "Threshold: 0.8 \t Accuracy score: 0.0806\n",
            "Threshold: 0.9 \t F1 score: 0.0181\n",
            "Threshold: 0.9 \t Accuracy score: 0.0806\n",
            "Fold 2/5 - Epoch 6/10 - Validation f1 score: 0.1509\n"
          ]
        },
        {
          "output_type": "stream",
          "name": "stderr",
          "text": [
            "\n",
            "Fold 5/5 - Validation f1 score: 0.1509:  50%|█████     | 5/10 [05:53<02:32, 30.50s/it]\n",
            " 60%|██████    | 6/10 [00:18<00:09,  2.31s/it]\u001b[A\n",
            " 70%|███████   | 7/10 [00:18<00:08,  2.74s/it]\u001b[A"
          ]
        },
        {
          "output_type": "stream",
          "name": "stdout",
          "text": [
            "Threshold: 0.1 \t F1 score: 0.0360\n",
            "Threshold: 0.1 \t Accuracy score: 0.0556\n",
            "Threshold: 0.2 \t F1 score: 0.1430\n",
            "Threshold: 0.2 \t Accuracy score: 0.2834\n",
            "Threshold: 0.3 \t F1 score: 0.1391\n",
            "Threshold: 0.3 \t Accuracy score: 0.2809\n",
            "Threshold: 0.4 \t F1 score: 0.1440\n",
            "Threshold: 0.4 \t Accuracy score: 0.2674\n",
            "Threshold: 0.5 \t F1 score: 0.0429\n",
            "Threshold: 0.5 \t Accuracy score: 0.0916\n",
            "Threshold: 0.6 \t F1 score: 0.0240\n",
            "Threshold: 0.6 \t Accuracy score: 0.0831\n",
            "Threshold: 0.7 \t F1 score: 0.0218\n",
            "Threshold: 0.7 \t Accuracy score: 0.0826\n",
            "Threshold: 0.8 \t F1 score: 0.0181\n",
            "Threshold: 0.8 \t Accuracy score: 0.0806\n",
            "Threshold: 0.9 \t F1 score: 0.0181\n",
            "Threshold: 0.9 \t Accuracy score: 0.0806\n",
            "Fold 2/5 - Epoch 7/10 - Validation f1 score: 0.1509\n"
          ]
        },
        {
          "output_type": "stream",
          "name": "stderr",
          "text": [
            "\n",
            "Fold 5/5 - Validation f1 score: 0.1509:  50%|█████     | 5/10 [05:56<02:32, 30.50s/it]\n",
            " 70%|███████   | 7/10 [00:21<00:08,  2.74s/it]\u001b[A\n",
            " 80%|████████  | 8/10 [00:21<00:05,  2.68s/it]\u001b[A"
          ]
        },
        {
          "output_type": "stream",
          "name": "stdout",
          "text": [
            "Threshold: 0.1 \t F1 score: 0.0360\n",
            "Threshold: 0.1 \t Accuracy score: 0.0556\n",
            "Threshold: 0.2 \t F1 score: 0.1430\n",
            "Threshold: 0.2 \t Accuracy score: 0.2834\n",
            "Threshold: 0.3 \t F1 score: 0.1391\n",
            "Threshold: 0.3 \t Accuracy score: 0.2809\n",
            "Threshold: 0.4 \t F1 score: 0.1440\n",
            "Threshold: 0.4 \t Accuracy score: 0.2674\n",
            "Threshold: 0.5 \t F1 score: 0.0429\n",
            "Threshold: 0.5 \t Accuracy score: 0.0916\n",
            "Threshold: 0.6 \t F1 score: 0.0240\n",
            "Threshold: 0.6 \t Accuracy score: 0.0831\n",
            "Threshold: 0.7 \t F1 score: 0.0218\n",
            "Threshold: 0.7 \t Accuracy score: 0.0826\n",
            "Threshold: 0.8 \t F1 score: 0.0181\n",
            "Threshold: 0.8 \t Accuracy score: 0.0806\n",
            "Threshold: 0.9 \t F1 score: 0.0181\n",
            "Threshold: 0.9 \t Accuracy score: 0.0806\n",
            "Fold 2/5 - Epoch 8/10 - Validation f1 score: 0.1509\n"
          ]
        },
        {
          "output_type": "stream",
          "name": "stderr",
          "text": [
            "\n",
            "Fold 5/5 - Validation f1 score: 0.1509:  50%|█████     | 5/10 [05:58<02:32, 30.50s/it]\n",
            " 80%|████████  | 8/10 [00:23<00:05,  2.68s/it]\u001b[A\n",
            " 90%|█████████ | 9/10 [00:23<00:02,  2.52s/it]\u001b[A"
          ]
        },
        {
          "output_type": "stream",
          "name": "stdout",
          "text": [
            "Threshold: 0.1 \t F1 score: 0.0360\n",
            "Threshold: 0.1 \t Accuracy score: 0.0556\n",
            "Threshold: 0.2 \t F1 score: 0.1430\n",
            "Threshold: 0.2 \t Accuracy score: 0.2834\n",
            "Threshold: 0.3 \t F1 score: 0.1391\n",
            "Threshold: 0.3 \t Accuracy score: 0.2809\n",
            "Threshold: 0.4 \t F1 score: 0.1440\n",
            "Threshold: 0.4 \t Accuracy score: 0.2674\n",
            "Threshold: 0.5 \t F1 score: 0.0429\n",
            "Threshold: 0.5 \t Accuracy score: 0.0916\n",
            "Threshold: 0.6 \t F1 score: 0.0240\n",
            "Threshold: 0.6 \t Accuracy score: 0.0831\n",
            "Threshold: 0.7 \t F1 score: 0.0218\n",
            "Threshold: 0.7 \t Accuracy score: 0.0826\n",
            "Threshold: 0.8 \t F1 score: 0.0181\n",
            "Threshold: 0.8 \t Accuracy score: 0.0806\n",
            "Threshold: 0.9 \t F1 score: 0.0181\n",
            "Threshold: 0.9 \t Accuracy score: 0.0806\n",
            "Fold 2/5 - Epoch 9/10 - Validation f1 score: 0.1509\n"
          ]
        },
        {
          "output_type": "stream",
          "name": "stderr",
          "text": [
            "\n",
            "Fold 5/5 - Validation f1 score: 0.1509:  50%|█████     | 5/10 [06:00<02:32, 30.50s/it]\n",
            " 90%|█████████ | 9/10 [00:25<00:02,  2.52s/it]\u001b[A\n",
            "100%|██████████| 10/10 [00:25<00:00,  2.55s/it]\n",
            "Fold 5/5 - Validation f1 score: 0.1509:  50%|█████     | 5/10 [06:00<02:32, 30.50s/it]"
          ]
        },
        {
          "output_type": "stream",
          "name": "stdout",
          "text": [
            "Threshold: 0.1 \t F1 score: 0.0360\n",
            "Threshold: 0.1 \t Accuracy score: 0.0556\n",
            "Threshold: 0.2 \t F1 score: 0.1430\n",
            "Threshold: 0.2 \t Accuracy score: 0.2834\n",
            "Threshold: 0.3 \t F1 score: 0.1391\n",
            "Threshold: 0.3 \t Accuracy score: 0.2809\n",
            "Threshold: 0.4 \t F1 score: 0.1440\n",
            "Threshold: 0.4 \t Accuracy score: 0.2674\n",
            "Threshold: 0.5 \t F1 score: 0.0429\n",
            "Threshold: 0.5 \t Accuracy score: 0.0916\n",
            "Threshold: 0.6 \t F1 score: 0.0240\n",
            "Threshold: 0.6 \t Accuracy score: 0.0831\n",
            "Threshold: 0.7 \t F1 score: 0.0218\n",
            "Threshold: 0.7 \t Accuracy score: 0.0826\n",
            "Threshold: 0.8 \t F1 score: 0.0181\n",
            "Threshold: 0.8 \t Accuracy score: 0.0806\n",
            "Threshold: 0.9 \t F1 score: 0.0181\n",
            "Threshold: 0.9 \t Accuracy score: 0.0806\n",
            "Fold 2/5 - Epoch 10/10 - Validation f1 score: 0.1509\n",
            "================================================================================\n"
          ]
        },
        {
          "output_type": "stream",
          "name": "stderr",
          "text": [
            "\n",
            "\n",
            "Fold 5/5 - Validation f1 score: 0.1509:  50%|█████     | 5/10 [06:03<02:32, 30.50s/it]\n",
            "  0%|          | 0/10 [00:02<?, ?it/s]\u001b[A\n",
            " 10%|█         | 1/10 [00:02<00:19,  2.20s/it]\u001b[A"
          ]
        },
        {
          "output_type": "stream",
          "name": "stdout",
          "text": [
            "Threshold: 0.1 \t F1 score: 0.0898\n",
            "Threshold: 0.1 \t Accuracy score: 0.0957\n",
            "Threshold: 0.2 \t F1 score: 0.1460\n",
            "Threshold: 0.2 \t Accuracy score: 0.2876\n",
            "Threshold: 0.3 \t F1 score: 0.1462\n",
            "Threshold: 0.3 \t Accuracy score: 0.2896\n",
            "Threshold: 0.4 \t F1 score: 0.1460\n",
            "Threshold: 0.4 \t Accuracy score: 0.2861\n",
            "Threshold: 0.5 \t F1 score: 0.1485\n",
            "Threshold: 0.5 \t Accuracy score: 0.2806\n",
            "Threshold: 0.6 \t F1 score: 0.0680\n",
            "Threshold: 0.6 \t Accuracy score: 0.1082\n",
            "Threshold: 0.7 \t F1 score: 0.0339\n",
            "Threshold: 0.7 \t Accuracy score: 0.0902\n",
            "Threshold: 0.8 \t F1 score: 0.0244\n",
            "Threshold: 0.8 \t Accuracy score: 0.0847\n",
            "Threshold: 0.9 \t F1 score: 0.0183\n",
            "Threshold: 0.9 \t Accuracy score: 0.0807\n",
            "Fold 3/5 - Epoch 1/10 - Validation f1 score: 0.1509\n"
          ]
        },
        {
          "output_type": "stream",
          "name": "stderr",
          "text": [
            "\n",
            "Fold 5/5 - Validation f1 score: 0.1509:  50%|█████     | 5/10 [06:05<02:32, 30.50s/it]\n",
            " 10%|█         | 1/10 [00:04<00:19,  2.20s/it]\u001b[A\n",
            " 20%|██        | 2/10 [00:04<00:19,  2.50s/it]\u001b[A"
          ]
        },
        {
          "output_type": "stream",
          "name": "stdout",
          "text": [
            "Threshold: 0.1 \t F1 score: 0.0898\n",
            "Threshold: 0.1 \t Accuracy score: 0.0957\n",
            "Threshold: 0.2 \t F1 score: 0.1460\n",
            "Threshold: 0.2 \t Accuracy score: 0.2876\n",
            "Threshold: 0.3 \t F1 score: 0.1462\n",
            "Threshold: 0.3 \t Accuracy score: 0.2896\n",
            "Threshold: 0.4 \t F1 score: 0.1460\n",
            "Threshold: 0.4 \t Accuracy score: 0.2861\n",
            "Threshold: 0.5 \t F1 score: 0.1485\n",
            "Threshold: 0.5 \t Accuracy score: 0.2806\n",
            "Threshold: 0.6 \t F1 score: 0.0680\n",
            "Threshold: 0.6 \t Accuracy score: 0.1082\n",
            "Threshold: 0.7 \t F1 score: 0.0339\n",
            "Threshold: 0.7 \t Accuracy score: 0.0902\n",
            "Threshold: 0.8 \t F1 score: 0.0244\n",
            "Threshold: 0.8 \t Accuracy score: 0.0847\n",
            "Threshold: 0.9 \t F1 score: 0.0183\n",
            "Threshold: 0.9 \t Accuracy score: 0.0807\n",
            "Fold 3/5 - Epoch 2/10 - Validation f1 score: 0.1509\n"
          ]
        },
        {
          "output_type": "stream",
          "name": "stderr",
          "text": [
            "\n",
            "Fold 5/5 - Validation f1 score: 0.1509:  50%|█████     | 5/10 [06:09<02:32, 30.50s/it]\n",
            " 20%|██        | 2/10 [00:08<00:19,  2.50s/it]\u001b[A\n",
            " 30%|███       | 3/10 [00:08<00:21,  3.03s/it]\u001b[A"
          ]
        },
        {
          "output_type": "stream",
          "name": "stdout",
          "text": [
            "Threshold: 0.1 \t F1 score: 0.0898\n",
            "Threshold: 0.1 \t Accuracy score: 0.0957\n",
            "Threshold: 0.2 \t F1 score: 0.1460\n",
            "Threshold: 0.2 \t Accuracy score: 0.2876\n",
            "Threshold: 0.3 \t F1 score: 0.1462\n",
            "Threshold: 0.3 \t Accuracy score: 0.2896\n",
            "Threshold: 0.4 \t F1 score: 0.1460\n",
            "Threshold: 0.4 \t Accuracy score: 0.2861\n",
            "Threshold: 0.5 \t F1 score: 0.1485\n",
            "Threshold: 0.5 \t Accuracy score: 0.2806\n",
            "Threshold: 0.6 \t F1 score: 0.0680\n",
            "Threshold: 0.6 \t Accuracy score: 0.1082\n",
            "Threshold: 0.7 \t F1 score: 0.0339\n",
            "Threshold: 0.7 \t Accuracy score: 0.0902\n",
            "Threshold: 0.8 \t F1 score: 0.0244\n",
            "Threshold: 0.8 \t Accuracy score: 0.0847\n",
            "Threshold: 0.9 \t F1 score: 0.0183\n",
            "Threshold: 0.9 \t Accuracy score: 0.0807\n",
            "Fold 3/5 - Epoch 3/10 - Validation f1 score: 0.1509\n"
          ]
        },
        {
          "output_type": "stream",
          "name": "stderr",
          "text": [
            "\n",
            "Fold 5/5 - Validation f1 score: 0.1509:  50%|█████     | 5/10 [06:11<02:32, 30.50s/it]\n",
            " 30%|███       | 3/10 [00:10<00:21,  3.03s/it]\u001b[A\n",
            " 40%|████      | 4/10 [00:10<00:16,  2.70s/it]\u001b[A"
          ]
        },
        {
          "output_type": "stream",
          "name": "stdout",
          "text": [
            "Threshold: 0.1 \t F1 score: 0.0898\n",
            "Threshold: 0.1 \t Accuracy score: 0.0957\n",
            "Threshold: 0.2 \t F1 score: 0.1460\n",
            "Threshold: 0.2 \t Accuracy score: 0.2876\n",
            "Threshold: 0.3 \t F1 score: 0.1462\n",
            "Threshold: 0.3 \t Accuracy score: 0.2896\n",
            "Threshold: 0.4 \t F1 score: 0.1460\n",
            "Threshold: 0.4 \t Accuracy score: 0.2861\n",
            "Threshold: 0.5 \t F1 score: 0.1485\n",
            "Threshold: 0.5 \t Accuracy score: 0.2806\n",
            "Threshold: 0.6 \t F1 score: 0.0680\n",
            "Threshold: 0.6 \t Accuracy score: 0.1082\n",
            "Threshold: 0.7 \t F1 score: 0.0339\n",
            "Threshold: 0.7 \t Accuracy score: 0.0902\n",
            "Threshold: 0.8 \t F1 score: 0.0244\n",
            "Threshold: 0.8 \t Accuracy score: 0.0847\n",
            "Threshold: 0.9 \t F1 score: 0.0183\n",
            "Threshold: 0.9 \t Accuracy score: 0.0807\n",
            "Fold 3/5 - Epoch 4/10 - Validation f1 score: 0.1509\n"
          ]
        },
        {
          "output_type": "stream",
          "name": "stderr",
          "text": [
            "\n",
            "Fold 5/5 - Validation f1 score: 0.1509:  50%|█████     | 5/10 [06:13<02:32, 30.50s/it]\n",
            " 40%|████      | 4/10 [00:12<00:16,  2.70s/it]\u001b[A\n",
            " 50%|█████     | 5/10 [00:12<00:12,  2.51s/it]\u001b[A"
          ]
        },
        {
          "output_type": "stream",
          "name": "stdout",
          "text": [
            "Threshold: 0.1 \t F1 score: 0.0898\n",
            "Threshold: 0.1 \t Accuracy score: 0.0957\n",
            "Threshold: 0.2 \t F1 score: 0.1460\n",
            "Threshold: 0.2 \t Accuracy score: 0.2876\n",
            "Threshold: 0.3 \t F1 score: 0.1462\n",
            "Threshold: 0.3 \t Accuracy score: 0.2896\n",
            "Threshold: 0.4 \t F1 score: 0.1460\n",
            "Threshold: 0.4 \t Accuracy score: 0.2861\n",
            "Threshold: 0.5 \t F1 score: 0.1485\n",
            "Threshold: 0.5 \t Accuracy score: 0.2806\n",
            "Threshold: 0.6 \t F1 score: 0.0680\n",
            "Threshold: 0.6 \t Accuracy score: 0.1082\n",
            "Threshold: 0.7 \t F1 score: 0.0339\n",
            "Threshold: 0.7 \t Accuracy score: 0.0902\n",
            "Threshold: 0.8 \t F1 score: 0.0244\n",
            "Threshold: 0.8 \t Accuracy score: 0.0847\n",
            "Threshold: 0.9 \t F1 score: 0.0183\n",
            "Threshold: 0.9 \t Accuracy score: 0.0807\n",
            "Fold 3/5 - Epoch 5/10 - Validation f1 score: 0.1509\n"
          ]
        },
        {
          "output_type": "stream",
          "name": "stderr",
          "text": [
            "\n",
            "Fold 5/5 - Validation f1 score: 0.1509:  50%|█████     | 5/10 [06:15<02:32, 30.50s/it]\n",
            " 50%|█████     | 5/10 [00:15<00:12,  2.51s/it]\u001b[A\n",
            " 60%|██████    | 6/10 [00:15<00:09,  2.39s/it]\u001b[A"
          ]
        },
        {
          "output_type": "stream",
          "name": "stdout",
          "text": [
            "Threshold: 0.1 \t F1 score: 0.0898\n",
            "Threshold: 0.1 \t Accuracy score: 0.0957\n",
            "Threshold: 0.2 \t F1 score: 0.1460\n",
            "Threshold: 0.2 \t Accuracy score: 0.2876\n",
            "Threshold: 0.3 \t F1 score: 0.1462\n",
            "Threshold: 0.3 \t Accuracy score: 0.2896\n",
            "Threshold: 0.4 \t F1 score: 0.1460\n",
            "Threshold: 0.4 \t Accuracy score: 0.2861\n",
            "Threshold: 0.5 \t F1 score: 0.1485\n",
            "Threshold: 0.5 \t Accuracy score: 0.2806\n",
            "Threshold: 0.6 \t F1 score: 0.0680\n",
            "Threshold: 0.6 \t Accuracy score: 0.1082\n",
            "Threshold: 0.7 \t F1 score: 0.0339\n",
            "Threshold: 0.7 \t Accuracy score: 0.0902\n",
            "Threshold: 0.8 \t F1 score: 0.0244\n",
            "Threshold: 0.8 \t Accuracy score: 0.0847\n",
            "Threshold: 0.9 \t F1 score: 0.0183\n",
            "Threshold: 0.9 \t Accuracy score: 0.0807\n",
            "Fold 3/5 - Epoch 6/10 - Validation f1 score: 0.1509\n"
          ]
        },
        {
          "output_type": "stream",
          "name": "stderr",
          "text": [
            "\n",
            "Fold 5/5 - Validation f1 score: 0.1509:  50%|█████     | 5/10 [06:18<02:32, 30.50s/it]\n",
            " 60%|██████    | 6/10 [00:17<00:09,  2.39s/it]\u001b[A\n",
            " 70%|███████   | 7/10 [00:17<00:06,  2.31s/it]\u001b[A"
          ]
        },
        {
          "output_type": "stream",
          "name": "stdout",
          "text": [
            "Threshold: 0.1 \t F1 score: 0.0898\n",
            "Threshold: 0.1 \t Accuracy score: 0.0957\n",
            "Threshold: 0.2 \t F1 score: 0.1460\n",
            "Threshold: 0.2 \t Accuracy score: 0.2876\n",
            "Threshold: 0.3 \t F1 score: 0.1462\n",
            "Threshold: 0.3 \t Accuracy score: 0.2896\n",
            "Threshold: 0.4 \t F1 score: 0.1460\n",
            "Threshold: 0.4 \t Accuracy score: 0.2861\n",
            "Threshold: 0.5 \t F1 score: 0.1485\n",
            "Threshold: 0.5 \t Accuracy score: 0.2806\n",
            "Threshold: 0.6 \t F1 score: 0.0680\n",
            "Threshold: 0.6 \t Accuracy score: 0.1082\n",
            "Threshold: 0.7 \t F1 score: 0.0339\n",
            "Threshold: 0.7 \t Accuracy score: 0.0902\n",
            "Threshold: 0.8 \t F1 score: 0.0244\n",
            "Threshold: 0.8 \t Accuracy score: 0.0847\n",
            "Threshold: 0.9 \t F1 score: 0.0183\n",
            "Threshold: 0.9 \t Accuracy score: 0.0807\n",
            "Fold 3/5 - Epoch 7/10 - Validation f1 score: 0.1509\n"
          ]
        },
        {
          "output_type": "stream",
          "name": "stderr",
          "text": [
            "\n",
            "Fold 5/5 - Validation f1 score: 0.1509:  50%|█████     | 5/10 [06:20<02:32, 30.50s/it]\n",
            " 70%|███████   | 7/10 [00:19<00:06,  2.31s/it]\u001b[A\n",
            " 80%|████████  | 8/10 [00:19<00:04,  2.43s/it]\u001b[A"
          ]
        },
        {
          "output_type": "stream",
          "name": "stdout",
          "text": [
            "Threshold: 0.1 \t F1 score: 0.0898\n",
            "Threshold: 0.1 \t Accuracy score: 0.0957\n",
            "Threshold: 0.2 \t F1 score: 0.1460\n",
            "Threshold: 0.2 \t Accuracy score: 0.2876\n",
            "Threshold: 0.3 \t F1 score: 0.1462\n",
            "Threshold: 0.3 \t Accuracy score: 0.2896\n",
            "Threshold: 0.4 \t F1 score: 0.1460\n",
            "Threshold: 0.4 \t Accuracy score: 0.2861\n",
            "Threshold: 0.5 \t F1 score: 0.1485\n",
            "Threshold: 0.5 \t Accuracy score: 0.2806\n",
            "Threshold: 0.6 \t F1 score: 0.0680\n",
            "Threshold: 0.6 \t Accuracy score: 0.1082\n",
            "Threshold: 0.7 \t F1 score: 0.0339\n",
            "Threshold: 0.7 \t Accuracy score: 0.0902\n",
            "Threshold: 0.8 \t F1 score: 0.0244\n",
            "Threshold: 0.8 \t Accuracy score: 0.0847\n",
            "Threshold: 0.9 \t F1 score: 0.0183\n",
            "Threshold: 0.9 \t Accuracy score: 0.0807\n",
            "Fold 3/5 - Epoch 8/10 - Validation f1 score: 0.1509\n"
          ]
        },
        {
          "output_type": "stream",
          "name": "stderr",
          "text": [
            "\n",
            "Fold 5/5 - Validation f1 score: 0.1509:  50%|█████     | 5/10 [06:24<02:32, 30.50s/it]\n",
            " 80%|████████  | 8/10 [00:23<00:04,  2.43s/it]\u001b[A\n",
            " 90%|█████████ | 9/10 [00:23<00:02,  2.72s/it]\u001b[A"
          ]
        },
        {
          "output_type": "stream",
          "name": "stdout",
          "text": [
            "Threshold: 0.1 \t F1 score: 0.0898\n",
            "Threshold: 0.1 \t Accuracy score: 0.0957\n",
            "Threshold: 0.2 \t F1 score: 0.1460\n",
            "Threshold: 0.2 \t Accuracy score: 0.2876\n",
            "Threshold: 0.3 \t F1 score: 0.1462\n",
            "Threshold: 0.3 \t Accuracy score: 0.2896\n",
            "Threshold: 0.4 \t F1 score: 0.1460\n",
            "Threshold: 0.4 \t Accuracy score: 0.2861\n",
            "Threshold: 0.5 \t F1 score: 0.1485\n",
            "Threshold: 0.5 \t Accuracy score: 0.2806\n",
            "Threshold: 0.6 \t F1 score: 0.0680\n",
            "Threshold: 0.6 \t Accuracy score: 0.1082\n",
            "Threshold: 0.7 \t F1 score: 0.0339\n",
            "Threshold: 0.7 \t Accuracy score: 0.0902\n",
            "Threshold: 0.8 \t F1 score: 0.0244\n",
            "Threshold: 0.8 \t Accuracy score: 0.0847\n",
            "Threshold: 0.9 \t F1 score: 0.0183\n",
            "Threshold: 0.9 \t Accuracy score: 0.0807\n",
            "Fold 3/5 - Epoch 9/10 - Validation f1 score: 0.1509\n"
          ]
        },
        {
          "output_type": "stream",
          "name": "stderr",
          "text": [
            "\n",
            "Fold 5/5 - Validation f1 score: 0.1509:  50%|█████     | 5/10 [06:26<02:32, 30.50s/it]\n",
            " 90%|█████████ | 9/10 [00:25<00:02,  2.72s/it]\u001b[A\n",
            "100%|██████████| 10/10 [00:25<00:00,  2.58s/it]\n",
            "Fold 5/5 - Validation f1 score: 0.1509:  50%|█████     | 5/10 [06:26<02:32, 30.50s/it]"
          ]
        },
        {
          "output_type": "stream",
          "name": "stdout",
          "text": [
            "Threshold: 0.1 \t F1 score: 0.0898\n",
            "Threshold: 0.1 \t Accuracy score: 0.0957\n",
            "Threshold: 0.2 \t F1 score: 0.1460\n",
            "Threshold: 0.2 \t Accuracy score: 0.2876\n",
            "Threshold: 0.3 \t F1 score: 0.1462\n",
            "Threshold: 0.3 \t Accuracy score: 0.2896\n",
            "Threshold: 0.4 \t F1 score: 0.1460\n",
            "Threshold: 0.4 \t Accuracy score: 0.2861\n",
            "Threshold: 0.5 \t F1 score: 0.1485\n",
            "Threshold: 0.5 \t Accuracy score: 0.2806\n",
            "Threshold: 0.6 \t F1 score: 0.0680\n",
            "Threshold: 0.6 \t Accuracy score: 0.1082\n",
            "Threshold: 0.7 \t F1 score: 0.0339\n",
            "Threshold: 0.7 \t Accuracy score: 0.0902\n",
            "Threshold: 0.8 \t F1 score: 0.0244\n",
            "Threshold: 0.8 \t Accuracy score: 0.0847\n",
            "Threshold: 0.9 \t F1 score: 0.0183\n",
            "Threshold: 0.9 \t Accuracy score: 0.0807\n",
            "Fold 3/5 - Epoch 10/10 - Validation f1 score: 0.1509\n",
            "================================================================================\n"
          ]
        },
        {
          "output_type": "stream",
          "name": "stderr",
          "text": [
            "\n",
            "\n",
            "Fold 5/5 - Validation f1 score: 0.1509:  50%|█████     | 5/10 [06:29<02:32, 30.50s/it]\n",
            "  0%|          | 0/10 [00:02<?, ?it/s]\u001b[A\n",
            " 10%|█         | 1/10 [00:02<00:19,  2.18s/it]\u001b[A"
          ]
        },
        {
          "output_type": "stream",
          "name": "stdout",
          "text": [
            "Threshold: 0.1 \t F1 score: 0.0539\n",
            "Threshold: 0.1 \t Accuracy score: 0.0681\n",
            "Threshold: 0.2 \t F1 score: 0.1392\n",
            "Threshold: 0.2 \t Accuracy score: 0.2831\n",
            "Threshold: 0.3 \t F1 score: 0.1392\n",
            "Threshold: 0.3 \t Accuracy score: 0.2836\n",
            "Threshold: 0.4 \t F1 score: 0.1397\n",
            "Threshold: 0.4 \t Accuracy score: 0.2771\n",
            "Threshold: 0.5 \t F1 score: 0.0624\n",
            "Threshold: 0.5 \t Accuracy score: 0.1017\n",
            "Threshold: 0.6 \t F1 score: 0.0207\n",
            "Threshold: 0.6 \t Accuracy score: 0.0807\n",
            "Threshold: 0.7 \t F1 score: 0.0188\n",
            "Threshold: 0.7 \t Accuracy score: 0.0797\n",
            "Threshold: 0.8 \t F1 score: 0.0181\n",
            "Threshold: 0.8 \t Accuracy score: 0.0797\n",
            "Threshold: 0.9 \t F1 score: 0.0119\n",
            "Threshold: 0.9 \t Accuracy score: 0.0772\n",
            "Fold 4/5 - Epoch 1/10 - Validation f1 score: 0.1509\n"
          ]
        },
        {
          "output_type": "stream",
          "name": "stderr",
          "text": [
            "\n",
            "Fold 5/5 - Validation f1 score: 0.1509:  50%|█████     | 5/10 [06:31<02:32, 30.50s/it]\n",
            " 10%|█         | 1/10 [00:04<00:19,  2.18s/it]\u001b[A\n",
            " 20%|██        | 2/10 [00:04<00:17,  2.17s/it]\u001b[A"
          ]
        },
        {
          "output_type": "stream",
          "name": "stdout",
          "text": [
            "Threshold: 0.1 \t F1 score: 0.0539\n",
            "Threshold: 0.1 \t Accuracy score: 0.0681\n",
            "Threshold: 0.2 \t F1 score: 0.1392\n",
            "Threshold: 0.2 \t Accuracy score: 0.2831\n",
            "Threshold: 0.3 \t F1 score: 0.1392\n",
            "Threshold: 0.3 \t Accuracy score: 0.2836\n",
            "Threshold: 0.4 \t F1 score: 0.1397\n",
            "Threshold: 0.4 \t Accuracy score: 0.2771\n",
            "Threshold: 0.5 \t F1 score: 0.0624\n",
            "Threshold: 0.5 \t Accuracy score: 0.1017\n",
            "Threshold: 0.6 \t F1 score: 0.0207\n",
            "Threshold: 0.6 \t Accuracy score: 0.0807\n",
            "Threshold: 0.7 \t F1 score: 0.0188\n",
            "Threshold: 0.7 \t Accuracy score: 0.0797\n",
            "Threshold: 0.8 \t F1 score: 0.0181\n",
            "Threshold: 0.8 \t Accuracy score: 0.0797\n",
            "Threshold: 0.9 \t F1 score: 0.0119\n",
            "Threshold: 0.9 \t Accuracy score: 0.0772\n",
            "Fold 4/5 - Epoch 2/10 - Validation f1 score: 0.1509\n"
          ]
        },
        {
          "output_type": "stream",
          "name": "stderr",
          "text": [
            "\n",
            "Fold 5/5 - Validation f1 score: 0.1509:  50%|█████     | 5/10 [06:33<02:32, 30.50s/it]\n",
            " 20%|██        | 2/10 [00:06<00:17,  2.17s/it]\u001b[A\n",
            " 30%|███       | 3/10 [00:06<00:15,  2.17s/it]\u001b[A"
          ]
        },
        {
          "output_type": "stream",
          "name": "stdout",
          "text": [
            "Threshold: 0.1 \t F1 score: 0.0539\n",
            "Threshold: 0.1 \t Accuracy score: 0.0681\n",
            "Threshold: 0.2 \t F1 score: 0.1392\n",
            "Threshold: 0.2 \t Accuracy score: 0.2831\n",
            "Threshold: 0.3 \t F1 score: 0.1392\n",
            "Threshold: 0.3 \t Accuracy score: 0.2836\n",
            "Threshold: 0.4 \t F1 score: 0.1397\n",
            "Threshold: 0.4 \t Accuracy score: 0.2771\n",
            "Threshold: 0.5 \t F1 score: 0.0624\n",
            "Threshold: 0.5 \t Accuracy score: 0.1017\n",
            "Threshold: 0.6 \t F1 score: 0.0207\n",
            "Threshold: 0.6 \t Accuracy score: 0.0807\n",
            "Threshold: 0.7 \t F1 score: 0.0188\n",
            "Threshold: 0.7 \t Accuracy score: 0.0797\n",
            "Threshold: 0.8 \t F1 score: 0.0181\n",
            "Threshold: 0.8 \t Accuracy score: 0.0797\n",
            "Threshold: 0.9 \t F1 score: 0.0119\n",
            "Threshold: 0.9 \t Accuracy score: 0.0772\n",
            "Fold 4/5 - Epoch 3/10 - Validation f1 score: 0.1509\n"
          ]
        },
        {
          "output_type": "stream",
          "name": "stderr",
          "text": [
            "\n",
            "Fold 5/5 - Validation f1 score: 0.1509:  50%|█████     | 5/10 [06:36<02:32, 30.50s/it]\n",
            " 30%|███       | 3/10 [00:09<00:15,  2.17s/it]\u001b[A\n",
            " 40%|████      | 4/10 [00:09<00:14,  2.40s/it]\u001b[A"
          ]
        },
        {
          "output_type": "stream",
          "name": "stdout",
          "text": [
            "Threshold: 0.1 \t F1 score: 0.0539\n",
            "Threshold: 0.1 \t Accuracy score: 0.0681\n",
            "Threshold: 0.2 \t F1 score: 0.1392\n",
            "Threshold: 0.2 \t Accuracy score: 0.2831\n",
            "Threshold: 0.3 \t F1 score: 0.1392\n",
            "Threshold: 0.3 \t Accuracy score: 0.2836\n",
            "Threshold: 0.4 \t F1 score: 0.1397\n",
            "Threshold: 0.4 \t Accuracy score: 0.2771\n",
            "Threshold: 0.5 \t F1 score: 0.0624\n",
            "Threshold: 0.5 \t Accuracy score: 0.1017\n",
            "Threshold: 0.6 \t F1 score: 0.0207\n",
            "Threshold: 0.6 \t Accuracy score: 0.0807\n",
            "Threshold: 0.7 \t F1 score: 0.0188\n",
            "Threshold: 0.7 \t Accuracy score: 0.0797\n",
            "Threshold: 0.8 \t F1 score: 0.0181\n",
            "Threshold: 0.8 \t Accuracy score: 0.0797\n",
            "Threshold: 0.9 \t F1 score: 0.0119\n",
            "Threshold: 0.9 \t Accuracy score: 0.0772\n",
            "Fold 4/5 - Epoch 4/10 - Validation f1 score: 0.1509\n"
          ]
        },
        {
          "output_type": "stream",
          "name": "stderr",
          "text": [
            "\n",
            "Fold 5/5 - Validation f1 score: 0.1509:  50%|█████     | 5/10 [06:39<02:32, 30.50s/it]\n",
            " 40%|████      | 4/10 [00:12<00:14,  2.40s/it]\u001b[A\n",
            " 50%|█████     | 5/10 [00:12<00:13,  2.80s/it]\u001b[A"
          ]
        },
        {
          "output_type": "stream",
          "name": "stdout",
          "text": [
            "Threshold: 0.1 \t F1 score: 0.0539\n",
            "Threshold: 0.1 \t Accuracy score: 0.0681\n",
            "Threshold: 0.2 \t F1 score: 0.1392\n",
            "Threshold: 0.2 \t Accuracy score: 0.2831\n",
            "Threshold: 0.3 \t F1 score: 0.1392\n",
            "Threshold: 0.3 \t Accuracy score: 0.2836\n",
            "Threshold: 0.4 \t F1 score: 0.1397\n",
            "Threshold: 0.4 \t Accuracy score: 0.2771\n",
            "Threshold: 0.5 \t F1 score: 0.0624\n",
            "Threshold: 0.5 \t Accuracy score: 0.1017\n",
            "Threshold: 0.6 \t F1 score: 0.0207\n",
            "Threshold: 0.6 \t Accuracy score: 0.0807\n",
            "Threshold: 0.7 \t F1 score: 0.0188\n",
            "Threshold: 0.7 \t Accuracy score: 0.0797\n",
            "Threshold: 0.8 \t F1 score: 0.0181\n",
            "Threshold: 0.8 \t Accuracy score: 0.0797\n",
            "Threshold: 0.9 \t F1 score: 0.0119\n",
            "Threshold: 0.9 \t Accuracy score: 0.0772\n",
            "Fold 4/5 - Epoch 5/10 - Validation f1 score: 0.1509\n"
          ]
        },
        {
          "output_type": "stream",
          "name": "stderr",
          "text": [
            "\n",
            "Fold 5/5 - Validation f1 score: 0.1509:  50%|█████     | 5/10 [06:41<02:32, 30.50s/it]\n",
            " 50%|█████     | 5/10 [00:14<00:13,  2.80s/it]\u001b[A\n",
            " 60%|██████    | 6/10 [00:14<00:10,  2.57s/it]\u001b[A"
          ]
        },
        {
          "output_type": "stream",
          "name": "stdout",
          "text": [
            "Threshold: 0.1 \t F1 score: 0.0539\n",
            "Threshold: 0.1 \t Accuracy score: 0.0681\n",
            "Threshold: 0.2 \t F1 score: 0.1392\n",
            "Threshold: 0.2 \t Accuracy score: 0.2831\n",
            "Threshold: 0.3 \t F1 score: 0.1392\n",
            "Threshold: 0.3 \t Accuracy score: 0.2836\n",
            "Threshold: 0.4 \t F1 score: 0.1397\n",
            "Threshold: 0.4 \t Accuracy score: 0.2771\n",
            "Threshold: 0.5 \t F1 score: 0.0624\n",
            "Threshold: 0.5 \t Accuracy score: 0.1017\n",
            "Threshold: 0.6 \t F1 score: 0.0207\n",
            "Threshold: 0.6 \t Accuracy score: 0.0807\n",
            "Threshold: 0.7 \t F1 score: 0.0188\n",
            "Threshold: 0.7 \t Accuracy score: 0.0797\n",
            "Threshold: 0.8 \t F1 score: 0.0181\n",
            "Threshold: 0.8 \t Accuracy score: 0.0797\n",
            "Threshold: 0.9 \t F1 score: 0.0119\n",
            "Threshold: 0.9 \t Accuracy score: 0.0772\n",
            "Fold 4/5 - Epoch 6/10 - Validation f1 score: 0.1509\n"
          ]
        },
        {
          "output_type": "stream",
          "name": "stderr",
          "text": [
            "\n",
            "Fold 5/5 - Validation f1 score: 0.1509:  50%|█████     | 5/10 [06:44<02:32, 30.50s/it]\n",
            " 60%|██████    | 6/10 [00:17<00:10,  2.57s/it]\u001b[A\n",
            " 70%|███████   | 7/10 [00:17<00:07,  2.42s/it]\u001b[A"
          ]
        },
        {
          "output_type": "stream",
          "name": "stdout",
          "text": [
            "Threshold: 0.1 \t F1 score: 0.0539\n",
            "Threshold: 0.1 \t Accuracy score: 0.0681\n",
            "Threshold: 0.2 \t F1 score: 0.1392\n",
            "Threshold: 0.2 \t Accuracy score: 0.2831\n",
            "Threshold: 0.3 \t F1 score: 0.1392\n",
            "Threshold: 0.3 \t Accuracy score: 0.2836\n",
            "Threshold: 0.4 \t F1 score: 0.1397\n",
            "Threshold: 0.4 \t Accuracy score: 0.2771\n",
            "Threshold: 0.5 \t F1 score: 0.0624\n",
            "Threshold: 0.5 \t Accuracy score: 0.1017\n",
            "Threshold: 0.6 \t F1 score: 0.0207\n",
            "Threshold: 0.6 \t Accuracy score: 0.0807\n",
            "Threshold: 0.7 \t F1 score: 0.0188\n",
            "Threshold: 0.7 \t Accuracy score: 0.0797\n",
            "Threshold: 0.8 \t F1 score: 0.0181\n",
            "Threshold: 0.8 \t Accuracy score: 0.0797\n",
            "Threshold: 0.9 \t F1 score: 0.0119\n",
            "Threshold: 0.9 \t Accuracy score: 0.0772\n",
            "Fold 4/5 - Epoch 7/10 - Validation f1 score: 0.1509\n"
          ]
        },
        {
          "output_type": "stream",
          "name": "stderr",
          "text": [
            "\n",
            "Fold 5/5 - Validation f1 score: 0.1509:  50%|█████     | 5/10 [06:46<02:32, 30.50s/it]\n",
            " 70%|███████   | 7/10 [00:19<00:07,  2.42s/it]\u001b[A\n",
            " 80%|████████  | 8/10 [00:19<00:04,  2.34s/it]\u001b[A"
          ]
        },
        {
          "output_type": "stream",
          "name": "stdout",
          "text": [
            "Threshold: 0.1 \t F1 score: 0.0539\n",
            "Threshold: 0.1 \t Accuracy score: 0.0681\n",
            "Threshold: 0.2 \t F1 score: 0.1392\n",
            "Threshold: 0.2 \t Accuracy score: 0.2831\n",
            "Threshold: 0.3 \t F1 score: 0.1392\n",
            "Threshold: 0.3 \t Accuracy score: 0.2836\n",
            "Threshold: 0.4 \t F1 score: 0.1397\n",
            "Threshold: 0.4 \t Accuracy score: 0.2771\n",
            "Threshold: 0.5 \t F1 score: 0.0624\n",
            "Threshold: 0.5 \t Accuracy score: 0.1017\n",
            "Threshold: 0.6 \t F1 score: 0.0207\n",
            "Threshold: 0.6 \t Accuracy score: 0.0807\n",
            "Threshold: 0.7 \t F1 score: 0.0188\n",
            "Threshold: 0.7 \t Accuracy score: 0.0797\n",
            "Threshold: 0.8 \t F1 score: 0.0181\n",
            "Threshold: 0.8 \t Accuracy score: 0.0797\n",
            "Threshold: 0.9 \t F1 score: 0.0119\n",
            "Threshold: 0.9 \t Accuracy score: 0.0772\n",
            "Fold 4/5 - Epoch 8/10 - Validation f1 score: 0.1509\n"
          ]
        },
        {
          "output_type": "stream",
          "name": "stderr",
          "text": [
            "\n",
            "Fold 5/5 - Validation f1 score: 0.1509:  50%|█████     | 5/10 [06:48<02:32, 30.50s/it]\n",
            " 80%|████████  | 8/10 [00:21<00:04,  2.34s/it]\u001b[A\n",
            " 90%|█████████ | 9/10 [00:21<00:02,  2.28s/it]\u001b[A"
          ]
        },
        {
          "output_type": "stream",
          "name": "stdout",
          "text": [
            "Threshold: 0.1 \t F1 score: 0.0539\n",
            "Threshold: 0.1 \t Accuracy score: 0.0681\n",
            "Threshold: 0.2 \t F1 score: 0.1392\n",
            "Threshold: 0.2 \t Accuracy score: 0.2831\n",
            "Threshold: 0.3 \t F1 score: 0.1392\n",
            "Threshold: 0.3 \t Accuracy score: 0.2836\n",
            "Threshold: 0.4 \t F1 score: 0.1397\n",
            "Threshold: 0.4 \t Accuracy score: 0.2771\n",
            "Threshold: 0.5 \t F1 score: 0.0624\n",
            "Threshold: 0.5 \t Accuracy score: 0.1017\n",
            "Threshold: 0.6 \t F1 score: 0.0207\n",
            "Threshold: 0.6 \t Accuracy score: 0.0807\n",
            "Threshold: 0.7 \t F1 score: 0.0188\n",
            "Threshold: 0.7 \t Accuracy score: 0.0797\n",
            "Threshold: 0.8 \t F1 score: 0.0181\n",
            "Threshold: 0.8 \t Accuracy score: 0.0797\n",
            "Threshold: 0.9 \t F1 score: 0.0119\n",
            "Threshold: 0.9 \t Accuracy score: 0.0772\n",
            "Fold 4/5 - Epoch 9/10 - Validation f1 score: 0.1509\n"
          ]
        },
        {
          "output_type": "stream",
          "name": "stderr",
          "text": [
            "\n",
            "Fold 5/5 - Validation f1 score: 0.1509:  50%|█████     | 5/10 [06:50<02:32, 30.50s/it]\n",
            " 90%|█████████ | 9/10 [00:23<00:02,  2.28s/it]\u001b[A\n",
            "100%|██████████| 10/10 [00:23<00:00,  2.39s/it]\n",
            "Fold 5/5 - Validation f1 score: 0.1509:  50%|█████     | 5/10 [06:50<02:32, 30.50s/it]"
          ]
        },
        {
          "output_type": "stream",
          "name": "stdout",
          "text": [
            "Threshold: 0.1 \t F1 score: 0.0539\n",
            "Threshold: 0.1 \t Accuracy score: 0.0681\n",
            "Threshold: 0.2 \t F1 score: 0.1392\n",
            "Threshold: 0.2 \t Accuracy score: 0.2831\n",
            "Threshold: 0.3 \t F1 score: 0.1392\n",
            "Threshold: 0.3 \t Accuracy score: 0.2836\n",
            "Threshold: 0.4 \t F1 score: 0.1397\n",
            "Threshold: 0.4 \t Accuracy score: 0.2771\n",
            "Threshold: 0.5 \t F1 score: 0.0624\n",
            "Threshold: 0.5 \t Accuracy score: 0.1017\n",
            "Threshold: 0.6 \t F1 score: 0.0207\n",
            "Threshold: 0.6 \t Accuracy score: 0.0807\n",
            "Threshold: 0.7 \t F1 score: 0.0188\n",
            "Threshold: 0.7 \t Accuracy score: 0.0797\n",
            "Threshold: 0.8 \t F1 score: 0.0181\n",
            "Threshold: 0.8 \t Accuracy score: 0.0797\n",
            "Threshold: 0.9 \t F1 score: 0.0119\n",
            "Threshold: 0.9 \t Accuracy score: 0.0772\n",
            "Fold 4/5 - Epoch 10/10 - Validation f1 score: 0.1509\n",
            "================================================================================\n"
          ]
        },
        {
          "output_type": "stream",
          "name": "stderr",
          "text": [
            "\n",
            "\n",
            "Fold 5/5 - Validation f1 score: 0.1509:  50%|█████     | 5/10 [06:55<02:32, 30.50s/it]\n",
            "  0%|          | 0/10 [00:03<?, ?it/s]\u001b[A\n",
            " 10%|█         | 1/10 [00:03<00:31,  3.55s/it]\u001b[A"
          ]
        },
        {
          "output_type": "stream",
          "name": "stdout",
          "text": [
            "Threshold: 0.1 \t F1 score: 0.0638\n",
            "Threshold: 0.1 \t Accuracy score: 0.0726\n",
            "Threshold: 0.2 \t F1 score: 0.1465\n",
            "Threshold: 0.2 \t Accuracy score: 0.2871\n",
            "Threshold: 0.3 \t F1 score: 0.1460\n",
            "Threshold: 0.3 \t Accuracy score: 0.2866\n",
            "Threshold: 0.4 \t F1 score: 0.1457\n",
            "Threshold: 0.4 \t Accuracy score: 0.2740\n",
            "Threshold: 0.5 \t F1 score: 0.0527\n",
            "Threshold: 0.5 \t Accuracy score: 0.0992\n",
            "Threshold: 0.6 \t F1 score: 0.0201\n",
            "Threshold: 0.6 \t Accuracy score: 0.0817\n",
            "Threshold: 0.7 \t F1 score: 0.0174\n",
            "Threshold: 0.7 \t Accuracy score: 0.0802\n",
            "Threshold: 0.8 \t F1 score: 0.0173\n",
            "Threshold: 0.8 \t Accuracy score: 0.0802\n",
            "Threshold: 0.9 \t F1 score: 0.0173\n",
            "Threshold: 0.9 \t Accuracy score: 0.0802\n",
            "Fold 5/5 - Epoch 1/10 - Validation f1 score: 0.1509\n"
          ]
        },
        {
          "output_type": "stream",
          "name": "stderr",
          "text": [
            "\n",
            "Fold 5/5 - Validation f1 score: 0.1509:  50%|█████     | 5/10 [06:58<02:32, 30.50s/it]\n",
            " 10%|█         | 1/10 [00:06<00:31,  3.55s/it]\u001b[A\n",
            " 20%|██        | 2/10 [00:06<00:26,  3.28s/it]\u001b[A"
          ]
        },
        {
          "output_type": "stream",
          "name": "stdout",
          "text": [
            "Threshold: 0.1 \t F1 score: 0.0638\n",
            "Threshold: 0.1 \t Accuracy score: 0.0726\n",
            "Threshold: 0.2 \t F1 score: 0.1465\n",
            "Threshold: 0.2 \t Accuracy score: 0.2871\n",
            "Threshold: 0.3 \t F1 score: 0.1460\n",
            "Threshold: 0.3 \t Accuracy score: 0.2866\n",
            "Threshold: 0.4 \t F1 score: 0.1457\n",
            "Threshold: 0.4 \t Accuracy score: 0.2740\n",
            "Threshold: 0.5 \t F1 score: 0.0527\n",
            "Threshold: 0.5 \t Accuracy score: 0.0992\n",
            "Threshold: 0.6 \t F1 score: 0.0201\n",
            "Threshold: 0.6 \t Accuracy score: 0.0817\n",
            "Threshold: 0.7 \t F1 score: 0.0174\n",
            "Threshold: 0.7 \t Accuracy score: 0.0802\n",
            "Threshold: 0.8 \t F1 score: 0.0173\n",
            "Threshold: 0.8 \t Accuracy score: 0.0802\n",
            "Threshold: 0.9 \t F1 score: 0.0173\n",
            "Threshold: 0.9 \t Accuracy score: 0.0802\n",
            "Fold 5/5 - Epoch 2/10 - Validation f1 score: 0.1509\n"
          ]
        },
        {
          "output_type": "stream",
          "name": "stderr",
          "text": [
            "\n",
            "Fold 5/5 - Validation f1 score: 0.1509:  50%|█████     | 5/10 [07:01<02:32, 30.50s/it]\n",
            " 20%|██        | 2/10 [00:09<00:26,  3.28s/it]\u001b[A\n",
            " 30%|███       | 3/10 [00:09<00:22,  3.24s/it]\u001b[A"
          ]
        },
        {
          "output_type": "stream",
          "name": "stdout",
          "text": [
            "Threshold: 0.1 \t F1 score: 0.0638\n",
            "Threshold: 0.1 \t Accuracy score: 0.0726\n",
            "Threshold: 0.2 \t F1 score: 0.1465\n",
            "Threshold: 0.2 \t Accuracy score: 0.2871\n",
            "Threshold: 0.3 \t F1 score: 0.1460\n",
            "Threshold: 0.3 \t Accuracy score: 0.2866\n",
            "Threshold: 0.4 \t F1 score: 0.1457\n",
            "Threshold: 0.4 \t Accuracy score: 0.2740\n",
            "Threshold: 0.5 \t F1 score: 0.0527\n",
            "Threshold: 0.5 \t Accuracy score: 0.0992\n",
            "Threshold: 0.6 \t F1 score: 0.0201\n",
            "Threshold: 0.6 \t Accuracy score: 0.0817\n",
            "Threshold: 0.7 \t F1 score: 0.0174\n",
            "Threshold: 0.7 \t Accuracy score: 0.0802\n",
            "Threshold: 0.8 \t F1 score: 0.0173\n",
            "Threshold: 0.8 \t Accuracy score: 0.0802\n",
            "Threshold: 0.9 \t F1 score: 0.0173\n",
            "Threshold: 0.9 \t Accuracy score: 0.0802\n",
            "Fold 5/5 - Epoch 3/10 - Validation f1 score: 0.1509\n"
          ]
        },
        {
          "output_type": "stream",
          "name": "stderr",
          "text": [
            "\n",
            "Fold 5/5 - Validation f1 score: 0.1509:  50%|█████     | 5/10 [07:05<02:32, 30.50s/it]\n",
            " 30%|███       | 3/10 [00:14<00:22,  3.24s/it]\u001b[A\n",
            " 40%|████      | 4/10 [00:14<00:22,  3.73s/it]\u001b[A"
          ]
        },
        {
          "output_type": "stream",
          "name": "stdout",
          "text": [
            "Threshold: 0.1 \t F1 score: 0.0638\n",
            "Threshold: 0.1 \t Accuracy score: 0.0726\n",
            "Threshold: 0.2 \t F1 score: 0.1465\n",
            "Threshold: 0.2 \t Accuracy score: 0.2871\n",
            "Threshold: 0.3 \t F1 score: 0.1460\n",
            "Threshold: 0.3 \t Accuracy score: 0.2866\n",
            "Threshold: 0.4 \t F1 score: 0.1457\n",
            "Threshold: 0.4 \t Accuracy score: 0.2740\n",
            "Threshold: 0.5 \t F1 score: 0.0527\n",
            "Threshold: 0.5 \t Accuracy score: 0.0992\n",
            "Threshold: 0.6 \t F1 score: 0.0201\n",
            "Threshold: 0.6 \t Accuracy score: 0.0817\n",
            "Threshold: 0.7 \t F1 score: 0.0174\n",
            "Threshold: 0.7 \t Accuracy score: 0.0802\n",
            "Threshold: 0.8 \t F1 score: 0.0173\n",
            "Threshold: 0.8 \t Accuracy score: 0.0802\n",
            "Threshold: 0.9 \t F1 score: 0.0173\n",
            "Threshold: 0.9 \t Accuracy score: 0.0802\n",
            "Fold 5/5 - Epoch 4/10 - Validation f1 score: 0.1509\n"
          ]
        },
        {
          "output_type": "stream",
          "name": "stderr",
          "text": [
            "\n",
            "Fold 5/5 - Validation f1 score: 0.1509:  50%|█████     | 5/10 [07:11<02:32, 30.50s/it]\n",
            " 40%|████      | 4/10 [00:19<00:22,  3.73s/it]\u001b[A\n",
            " 50%|█████     | 5/10 [00:19<00:21,  4.22s/it]\u001b[A"
          ]
        },
        {
          "output_type": "stream",
          "name": "stdout",
          "text": [
            "Threshold: 0.1 \t F1 score: 0.0638\n",
            "Threshold: 0.1 \t Accuracy score: 0.0726\n",
            "Threshold: 0.2 \t F1 score: 0.1465\n",
            "Threshold: 0.2 \t Accuracy score: 0.2871\n",
            "Threshold: 0.3 \t F1 score: 0.1460\n",
            "Threshold: 0.3 \t Accuracy score: 0.2866\n",
            "Threshold: 0.4 \t F1 score: 0.1457\n",
            "Threshold: 0.4 \t Accuracy score: 0.2740\n",
            "Threshold: 0.5 \t F1 score: 0.0527\n",
            "Threshold: 0.5 \t Accuracy score: 0.0992\n",
            "Threshold: 0.6 \t F1 score: 0.0201\n",
            "Threshold: 0.6 \t Accuracy score: 0.0817\n",
            "Threshold: 0.7 \t F1 score: 0.0174\n",
            "Threshold: 0.7 \t Accuracy score: 0.0802\n",
            "Threshold: 0.8 \t F1 score: 0.0173\n",
            "Threshold: 0.8 \t Accuracy score: 0.0802\n",
            "Threshold: 0.9 \t F1 score: 0.0173\n",
            "Threshold: 0.9 \t Accuracy score: 0.0802\n",
            "Fold 5/5 - Epoch 5/10 - Validation f1 score: 0.1509\n"
          ]
        },
        {
          "output_type": "stream",
          "name": "stderr",
          "text": [
            "\n",
            "Fold 5/5 - Validation f1 score: 0.1509:  50%|█████     | 5/10 [07:14<02:32, 30.50s/it]\n",
            " 50%|█████     | 5/10 [00:23<00:21,  4.22s/it]\u001b[A\n",
            " 60%|██████    | 6/10 [00:23<00:16,  4.06s/it]\u001b[A"
          ]
        },
        {
          "output_type": "stream",
          "name": "stdout",
          "text": [
            "Threshold: 0.1 \t F1 score: 0.0638\n",
            "Threshold: 0.1 \t Accuracy score: 0.0726\n",
            "Threshold: 0.2 \t F1 score: 0.1465\n",
            "Threshold: 0.2 \t Accuracy score: 0.2871\n",
            "Threshold: 0.3 \t F1 score: 0.1460\n",
            "Threshold: 0.3 \t Accuracy score: 0.2866\n",
            "Threshold: 0.4 \t F1 score: 0.1457\n",
            "Threshold: 0.4 \t Accuracy score: 0.2740\n",
            "Threshold: 0.5 \t F1 score: 0.0527\n",
            "Threshold: 0.5 \t Accuracy score: 0.0992\n",
            "Threshold: 0.6 \t F1 score: 0.0201\n",
            "Threshold: 0.6 \t Accuracy score: 0.0817\n",
            "Threshold: 0.7 \t F1 score: 0.0174\n",
            "Threshold: 0.7 \t Accuracy score: 0.0802\n",
            "Threshold: 0.8 \t F1 score: 0.0173\n",
            "Threshold: 0.8 \t Accuracy score: 0.0802\n",
            "Threshold: 0.9 \t F1 score: 0.0173\n",
            "Threshold: 0.9 \t Accuracy score: 0.0802\n",
            "Fold 5/5 - Epoch 6/10 - Validation f1 score: 0.1509\n"
          ]
        },
        {
          "output_type": "stream",
          "name": "stderr",
          "text": [
            "\n",
            "Fold 5/5 - Validation f1 score: 0.1509:  50%|█████     | 5/10 [07:18<02:32, 30.50s/it]\n",
            " 60%|██████    | 6/10 [00:27<00:16,  4.06s/it]\u001b[A\n",
            " 70%|███████   | 7/10 [00:27<00:12,  4.04s/it]\u001b[A"
          ]
        },
        {
          "output_type": "stream",
          "name": "stdout",
          "text": [
            "Threshold: 0.1 \t F1 score: 0.0638\n",
            "Threshold: 0.1 \t Accuracy score: 0.0726\n",
            "Threshold: 0.2 \t F1 score: 0.1465\n",
            "Threshold: 0.2 \t Accuracy score: 0.2871\n",
            "Threshold: 0.3 \t F1 score: 0.1460\n",
            "Threshold: 0.3 \t Accuracy score: 0.2866\n",
            "Threshold: 0.4 \t F1 score: 0.1457\n",
            "Threshold: 0.4 \t Accuracy score: 0.2740\n",
            "Threshold: 0.5 \t F1 score: 0.0527\n",
            "Threshold: 0.5 \t Accuracy score: 0.0992\n",
            "Threshold: 0.6 \t F1 score: 0.0201\n",
            "Threshold: 0.6 \t Accuracy score: 0.0817\n",
            "Threshold: 0.7 \t F1 score: 0.0174\n",
            "Threshold: 0.7 \t Accuracy score: 0.0802\n",
            "Threshold: 0.8 \t F1 score: 0.0173\n",
            "Threshold: 0.8 \t Accuracy score: 0.0802\n",
            "Threshold: 0.9 \t F1 score: 0.0173\n",
            "Threshold: 0.9 \t Accuracy score: 0.0802\n",
            "Fold 5/5 - Epoch 7/10 - Validation f1 score: 0.1509\n"
          ]
        },
        {
          "output_type": "stream",
          "name": "stderr",
          "text": [
            "\n",
            "Fold 5/5 - Validation f1 score: 0.1509:  50%|█████     | 5/10 [07:23<02:32, 30.50s/it]\n",
            " 70%|███████   | 7/10 [00:31<00:12,  4.04s/it]\u001b[A\n",
            " 80%|████████  | 8/10 [00:31<00:08,  4.14s/it]\u001b[A"
          ]
        },
        {
          "output_type": "stream",
          "name": "stdout",
          "text": [
            "Threshold: 0.1 \t F1 score: 0.0638\n",
            "Threshold: 0.1 \t Accuracy score: 0.0726\n",
            "Threshold: 0.2 \t F1 score: 0.1465\n",
            "Threshold: 0.2 \t Accuracy score: 0.2871\n",
            "Threshold: 0.3 \t F1 score: 0.1460\n",
            "Threshold: 0.3 \t Accuracy score: 0.2866\n",
            "Threshold: 0.4 \t F1 score: 0.1457\n",
            "Threshold: 0.4 \t Accuracy score: 0.2740\n",
            "Threshold: 0.5 \t F1 score: 0.0527\n",
            "Threshold: 0.5 \t Accuracy score: 0.0992\n",
            "Threshold: 0.6 \t F1 score: 0.0201\n",
            "Threshold: 0.6 \t Accuracy score: 0.0817\n",
            "Threshold: 0.7 \t F1 score: 0.0174\n",
            "Threshold: 0.7 \t Accuracy score: 0.0802\n",
            "Threshold: 0.8 \t F1 score: 0.0173\n",
            "Threshold: 0.8 \t Accuracy score: 0.0802\n",
            "Threshold: 0.9 \t F1 score: 0.0173\n",
            "Threshold: 0.9 \t Accuracy score: 0.0802\n",
            "Fold 5/5 - Epoch 8/10 - Validation f1 score: 0.1509\n"
          ]
        },
        {
          "output_type": "stream",
          "name": "stderr",
          "text": [
            "\n",
            "Fold 5/5 - Validation f1 score: 0.1509:  50%|█████     | 5/10 [07:28<02:32, 30.50s/it]\n",
            " 80%|████████  | 8/10 [00:36<00:08,  4.14s/it]\u001b[A\n",
            " 90%|█████████ | 9/10 [00:36<00:04,  4.38s/it]\u001b[A"
          ]
        },
        {
          "output_type": "stream",
          "name": "stdout",
          "text": [
            "Threshold: 0.1 \t F1 score: 0.0638\n",
            "Threshold: 0.1 \t Accuracy score: 0.0726\n",
            "Threshold: 0.2 \t F1 score: 0.1465\n",
            "Threshold: 0.2 \t Accuracy score: 0.2871\n",
            "Threshold: 0.3 \t F1 score: 0.1460\n",
            "Threshold: 0.3 \t Accuracy score: 0.2866\n",
            "Threshold: 0.4 \t F1 score: 0.1457\n",
            "Threshold: 0.4 \t Accuracy score: 0.2740\n",
            "Threshold: 0.5 \t F1 score: 0.0527\n",
            "Threshold: 0.5 \t Accuracy score: 0.0992\n",
            "Threshold: 0.6 \t F1 score: 0.0201\n",
            "Threshold: 0.6 \t Accuracy score: 0.0817\n",
            "Threshold: 0.7 \t F1 score: 0.0174\n",
            "Threshold: 0.7 \t Accuracy score: 0.0802\n",
            "Threshold: 0.8 \t F1 score: 0.0173\n",
            "Threshold: 0.8 \t Accuracy score: 0.0802\n",
            "Threshold: 0.9 \t F1 score: 0.0173\n",
            "Threshold: 0.9 \t Accuracy score: 0.0802\n",
            "Fold 5/5 - Epoch 9/10 - Validation f1 score: 0.1509\n"
          ]
        },
        {
          "output_type": "stream",
          "name": "stderr",
          "text": [
            "\n",
            "Fold 5/5 - Validation f1 score: 0.1509:  50%|█████     | 5/10 [07:31<02:32, 30.50s/it]\n",
            " 90%|█████████ | 9/10 [00:39<00:04,  4.38s/it]\u001b[A\n",
            "100%|██████████| 10/10 [00:39<00:00,  4.00s/it]\n",
            "Fold 5/5 - Validation f1 score: 0.1509:  50%|█████     | 5/10 [07:31<02:32, 30.50s/it]"
          ]
        },
        {
          "output_type": "stream",
          "name": "stdout",
          "text": [
            "Threshold: 0.1 \t F1 score: 0.0638\n",
            "Threshold: 0.1 \t Accuracy score: 0.0726\n",
            "Threshold: 0.2 \t F1 score: 0.1465\n",
            "Threshold: 0.2 \t Accuracy score: 0.2871\n",
            "Threshold: 0.3 \t F1 score: 0.1460\n",
            "Threshold: 0.3 \t Accuracy score: 0.2866\n",
            "Threshold: 0.4 \t F1 score: 0.1457\n",
            "Threshold: 0.4 \t Accuracy score: 0.2740\n",
            "Threshold: 0.5 \t F1 score: 0.0527\n",
            "Threshold: 0.5 \t Accuracy score: 0.0992\n",
            "Threshold: 0.6 \t F1 score: 0.0201\n",
            "Threshold: 0.6 \t Accuracy score: 0.0817\n",
            "Threshold: 0.7 \t F1 score: 0.0174\n",
            "Threshold: 0.7 \t Accuracy score: 0.0802\n",
            "Threshold: 0.8 \t F1 score: 0.0173\n",
            "Threshold: 0.8 \t Accuracy score: 0.0802\n",
            "Threshold: 0.9 \t F1 score: 0.0173\n",
            "Threshold: 0.9 \t Accuracy score: 0.0802\n",
            "Fold 5/5 - Epoch 10/10 - Validation f1 score: 0.1509\n",
            "================================================================================\n",
            "================================================================================\n",
            "Average validation f1 score: 0.1509\n"
          ]
        }
      ],
      "source": [
        "skf = StratifiedKFold(n_splits=5, shuffle=True, random_state=42)\n",
        "\n",
        "val_accs = np.zeros(5) \n",
        "\n",
        "\n",
        "for fold_idx, (train_idx, val_idx) in enumerate(skf.split(X, y)):\n",
        "    \n",
        "    # Split the data into training and validation sets\n",
        "    X_train, y_train = X.iloc[train_idx], y[train_idx]\n",
        "    X_val, y_val = X.iloc[val_idx], y[val_idx]\n",
        "    \n",
        "    # Initialize the TF-IDF vectorizer and fit it on the training set\n",
        "    vectorizer = TfidfVectorizer(stop_words=\"english\", sublinear_tf=True, norm='l2', ngram_range=(1,4))\n",
        "    X_train_tfidf = vectorizer.fit_transform(X_train)\n",
        "    \n",
        "    # Transform the validation set using the trained vectorizer\n",
        "    X_val_tfidf = vectorizer.transform(X_val)\n",
        "    \n",
        "    # Initialize the K-Nearest Neighbors Classifier\n",
        "    knn = KNeighborsClassifier(n_neighbors=10)\n",
        "    \n",
        "    for epoch in tqdm(range(10)):  # 10 epochs\n",
        "        \n",
        "        # Train the model on the training set\n",
        "        knn.fit(X_train_tfidf, y_train)\n",
        "        \n",
        "        # Predict the labels of the validation set and compute the accuracy\n",
        "        y_pred_prob = knn.predict_proba(X_val_tfidf)\n",
        "\n",
        "        thresholds = [0.1, 0.2, 0.3, 0.4, 0.5, 0.6, 0.7, 0.8, 0.9]\n",
        "        for threshold in thresholds:\n",
        "          y_pred = np.argmax((y_pred_prob > threshold).astype(int),axis = 1)\n",
        "          f1 = f1_score(y_val, y_pred, average = 'weighted')\n",
        "          accuracy = accuracy_score(y_val, y_pred)\n",
        "          print('Threshold: {:.1f} \\t F1 score: {:.4f}'.format(threshold, f1))\n",
        "          print('Threshold: {:.1f} \\t Accuracy score: {:.4f}'.format(threshold, accuracy))\n",
        "          \n",
        "        # Update the progress bar\n",
        "        tqdm.write(f\"Fold {fold_idx + 1}/{skf.n_splits} - Epoch {epoch + 1}/10 - Validation f1 score: {val_f1:.4f}\")\n",
        "    \n",
        "    val_accs[fold_idx] = val_f1\n",
        "   \n",
        "    tqdm.write(\"=\" * 80)\n",
        "\n",
        "# Compute the average validation accuracy across all folds and epochs\n",
        "avg_val_f1 = np.mean(val_accs)\n",
        "\n",
        "# Display the final results\n",
        "print(\"=\" * 80)\n",
        "print(f\"Average validation f1 score: {avg_val_f1:.4f}\")\n"
      ]
    },
    {
      "cell_type": "markdown",
      "id": "bd9a31fa",
      "metadata": {
        "id": "bd9a31fa"
      },
      "source": [
        "Accuracy for 10k data on KNN model for both k=5 and k=10 is about 26%"
      ]
    },
    {
      "cell_type": "markdown",
      "id": "d66282af",
      "metadata": {
        "id": "d66282af"
      },
      "source": [
        "**RNN**"
      ]
    },
    {
      "cell_type": "code",
      "execution_count": null,
      "id": "c3336fc2",
      "metadata": {
        "id": "c3336fc2"
      },
      "outputs": [],
      "source": [
        "# Set the number of epochs and batch size\n",
        "epochs = 10\n",
        "batch_size = 128\n",
        "\n",
        "# Create a progress bar\n",
        "pbar = tqdm(total=epochs)\n",
        "\n",
        "skf = StratifiedKFold(n_splits=5, shuffle=True, random_state=42)\n",
        "\n",
        "val_accs = np.zeros(5) \n",
        "\n",
        "nc=len(set(y))\n",
        "\n",
        "for fold_idx, (train_idx, val_idx) in enumerate(skf.split(X, y)):\n",
        "    \n",
        "    # Split the data into training and validation sets\n",
        "    X_train, y_train = X.iloc[train_idx], y[train_idx]\n",
        "    X_val, y_val = X.iloc[val_idx], y[val_idx]\n",
        "    \n",
        "    # Initialize a tokenizer and fit it on the training set\n",
        "    tokenizer = Tokenizer(num_words=50000)\n",
        "    tokenizer.fit_on_texts(X_train)\n",
        "    \n",
        "    # Convert the text to sequences and pad them\n",
        "    X_train_seq = pad_sequences(tokenizer.texts_to_sequences(X_train), maxlen=64)\n",
        "    X_val_seq = pad_sequences(tokenizer.texts_to_sequences(X_val), maxlen=64)\n",
        "    \n",
        "    # Encode the labels using one-hot encoding\n",
        "    y_train_enc = to_categorical(y_train)\n",
        "    y_val_enc = to_categorical(y_val)\n",
        "    \n",
        "    # Initialize the model\n",
        "    model = Sequential()\n",
        "    model.add(Embedding(10000, 128, input_length=64))\n",
        "    model.add(LSTM(128, dropout=0.5, recurrent_dropout=0.5))\n",
        "    model.add(Dense(nc*2, activation='relu'))\n",
        "    model.add(Dropout(0.5))\n",
        "    model.add(Dense(nc, activation='softmax'))\n",
        "    model.compile(loss='categorical_crossentropy', optimizer='adam', metrics=[tf.keras.metrics.Precision(name='precision'),\n",
        "                   tf.keras.metrics.Recall(name='recall'), tfa.metrics.F1Score(num_classes=28)])\n",
        "\n",
        "    early_stopping = EarlyStopping(monitor='val_precision', patience=3, mode='max', restore_best_weights=True)\n",
        "    \n",
        "    # add the profiler callback to the list of callbacks\n",
        "    callbacks = [\n",
        "        early_stopping,\n",
        "        ModelCheckpoint(filepath='./', monitor='val_precision', mode='max', save_best_only=True)]\n",
        "\n",
        "    # train the model\n",
        "    model.fit(\n",
        "        X_train_seq, y_train_enc, validation_data=(X_val_seq, y_val_enc), epochs=epochs, batch_size=batch_size,\n",
        "        callbacks=callbacks)\n",
        "    \n",
        "    y_pred_prob = model.predict(X_val_seq)\n",
        "\n",
        "    thresholds = [0.1, 0.2, 0.3, 0.4, 0.5, 0.6, 0.7, 0.8, 0.9]\n",
        "    for threshold in thresholds:\n",
        "      y_pred = np.argmax((y_pred_prob > threshold).astype(int),axis = 1)\n",
        "      f1 = f1_score(y_val, y_pred, average = 'weighted')\n",
        "      accuracy = accuracy_score(y_val, y_pred)\n",
        "      print('Threshold: {:.1f} \\t F1 score: {:.4f}'.format(threshold, f1))\n",
        "      print('Threshold: {:.1f} \\t Accuracy score: {:.4f}'.format(threshold, accuracy))\n",
        "    val_accs[fold_idx] = f1\n",
        "    \n",
        "    # Update the progress bar\n",
        "    pbar.update(1)\n",
        "    pbar.set_description(f\"Fold {fold_idx + 1}/{skf.n_splits} - Validation f1 score: {val_f1:.4f}\")\n",
        "    \n",
        "    tqdm.write(\"=\" * 80)\n",
        "    gc.collect()\n",
        "\n",
        "# Compute the average validation accuracy across all folds\n",
        "avg_val_f1 = np.mean(val_accs)\n",
        "\n",
        "# Display the final results\n",
        "print(\"=\" * 80)\n",
        "print(f\"Average validation f1 score: {avg_val_f1:.4f}\")\n"
      ]
    },
    {
      "cell_type": "code",
      "execution_count": null,
      "id": "2eaf2d28",
      "metadata": {
        "id": "2eaf2d28",
        "colab": {
          "base_uri": "https://localhost:8080/"
        },
        "outputId": "8c4484df-48b0-4752-aa39-e35ea132ce15"
      },
      "outputs": [
        {
          "output_type": "stream",
          "name": "stderr",
          "text": [
            "Some layers from the model checkpoint at joeddav/distilbert-base-uncased-go-emotions-student were not used when initializing TFDistilBertModel: ['classifier', 'dropout_19', 'pre_classifier']\n",
            "- This IS expected if you are initializing TFDistilBertModel from the checkpoint of a model trained on another task or with another architecture (e.g. initializing a BertForSequenceClassification model from a BertForPreTraining model).\n",
            "- This IS NOT expected if you are initializing TFDistilBertModel from the checkpoint of a model that you expect to be exactly identical (initializing a BertForSequenceClassification model from a BertForSequenceClassification model).\n",
            "All the layers of TFDistilBertModel were initialized from the model checkpoint at joeddav/distilbert-base-uncased-go-emotions-student.\n",
            "If your task is similar to the task the model of the checkpoint was trained on, you can already use TFDistilBertModel for predictions without further training.\n",
            "WARNING:tensorflow:From /usr/local/lib/python3.9/dist-packages/tensorflow/python/autograph/pyct/static_analysis/liveness.py:83: Analyzer.lamba_check (from tensorflow.python.autograph.pyct.static_analysis.liveness) is deprecated and will be removed after 2023-09-23.\n",
            "Instructions for updating:\n",
            "Lambda fuctions will be no more assumed to be used in the statement where they are used, or at least in the same block. https://github.com/tensorflow/tensorflow/issues/56089\n"
          ]
        },
        {
          "output_type": "stream",
          "name": "stdout",
          "text": [
            "Epoch 1/100\n",
            "30/30 [==============================] - 77s 2s/step - loss: 2.7785 - precision: 0.4866 - recall: 0.0284 - f1_score: 0.0718 - val_loss: 2.3608 - val_precision: 0.6567 - val_recall: 0.0962 - val_f1_score: 0.1033\n",
            "Epoch 2/100\n",
            "30/30 [==============================] - 52s 2s/step - loss: 2.3195 - precision: 0.5893 - recall: 0.1130 - f1_score: 0.1259 - val_loss: 2.1687 - val_precision: 0.6426 - val_recall: 0.1562 - val_f1_score: 0.1669\n",
            "Epoch 3/100\n",
            "30/30 [==============================] - 50s 2s/step - loss: 2.1743 - precision: 0.6131 - recall: 0.1387 - f1_score: 0.1854 - val_loss: 2.0216 - val_precision: 0.6467 - val_recall: 0.1797 - val_f1_score: 0.2281\n",
            "Epoch 4/100\n",
            "30/30 [==============================] - 53s 2s/step - loss: 2.0436 - precision: 0.6528 - recall: 0.1699 - f1_score: 0.2264 - val_loss: 1.9795 - val_precision: 0.6604 - val_recall: 0.2231 - val_f1_score: 0.2529\n",
            "Epoch 5/100\n",
            "30/30 [==============================] - 50s 2s/step - loss: 1.9714 - precision: 0.6575 - recall: 0.1895 - f1_score: 0.2552 - val_loss: 1.7955 - val_precision: 0.7046 - val_recall: 0.2295 - val_f1_score: 0.3086\n",
            "Epoch 6/100\n",
            "30/30 [==============================] - 52s 2s/step - loss: 1.8681 - precision: 0.6872 - recall: 0.2240 - f1_score: 0.2840 - val_loss: 1.6771 - val_precision: 0.7553 - val_recall: 0.2622 - val_f1_score: 0.3566\n",
            "Epoch 7/100\n",
            "30/30 [==============================] - 50s 2s/step - loss: 1.7774 - precision: 0.7054 - recall: 0.2413 - f1_score: 0.3230 - val_loss: 1.5683 - val_precision: 0.7657 - val_recall: 0.2983 - val_f1_score: 0.3918\n",
            "Epoch 8/100\n",
            "30/30 [==============================] - 51s 2s/step - loss: 1.6866 - precision: 0.7341 - recall: 0.2682 - f1_score: 0.3514 - val_loss: 1.4673 - val_precision: 0.7877 - val_recall: 0.3623 - val_f1_score: 0.4077\n",
            "Epoch 9/100\n",
            "30/30 [==============================] - 51s 2s/step - loss: 1.5741 - precision: 0.7522 - recall: 0.3169 - f1_score: 0.3901 - val_loss: 1.3369 - val_precision: 0.7894 - val_recall: 0.3862 - val_f1_score: 0.4742\n",
            "Epoch 10/100\n",
            "30/30 [==============================] - 49s 2s/step - loss: 1.4647 - precision: 0.7833 - recall: 0.3559 - f1_score: 0.4156 - val_loss: 1.1792 - val_precision: 0.8257 - val_recall: 0.4766 - val_f1_score: 0.5067\n",
            "Epoch 11/100\n",
            "30/30 [==============================] - 50s 2s/step - loss: 1.3710 - precision: 0.7964 - recall: 0.3845 - f1_score: 0.4545 - val_loss: 1.0595 - val_precision: 0.8749 - val_recall: 0.5225 - val_f1_score: 0.5797\n",
            "Epoch 12/100\n",
            "30/30 [==============================] - 49s 2s/step - loss: 1.2695 - precision: 0.8228 - recall: 0.4286 - f1_score: 0.4955 - val_loss: 0.9390 - val_precision: 0.8882 - val_recall: 0.5898 - val_f1_score: 0.6118\n",
            "Epoch 13/100\n",
            "30/30 [==============================] - 48s 2s/step - loss: 1.1440 - precision: 0.8354 - recall: 0.4898 - f1_score: 0.5244 - val_loss: 0.8394 - val_precision: 0.8806 - val_recall: 0.6265 - val_f1_score: 0.6633\n",
            "Epoch 14/100\n",
            "30/30 [==============================] - 48s 2s/step - loss: 1.0440 - precision: 0.8493 - recall: 0.5283 - f1_score: 0.5676 - val_loss: 0.7306 - val_precision: 0.9089 - val_recall: 0.6963 - val_f1_score: 0.6722\n",
            "Epoch 15/100\n",
            "30/30 [==============================] - 49s 2s/step - loss: 0.9355 - precision: 0.8677 - recall: 0.5809 - f1_score: 0.5993 - val_loss: 0.6370 - val_precision: 0.9120 - val_recall: 0.7393 - val_f1_score: 0.6892\n",
            "Epoch 16/100\n",
            "30/30 [==============================] - 50s 2s/step - loss: 0.8573 - precision: 0.8814 - recall: 0.6214 - f1_score: 0.6442 - val_loss: 0.5451 - val_precision: 0.9270 - val_recall: 0.7808 - val_f1_score: 0.7135\n",
            "Epoch 17/100\n",
            "30/30 [==============================] - 48s 2s/step - loss: 0.7720 - precision: 0.8876 - recall: 0.6615 - f1_score: 0.6738 - val_loss: 0.4435 - val_precision: 0.9349 - val_recall: 0.8198 - val_f1_score: 0.8027\n",
            "Epoch 18/100\n",
            "30/30 [==============================] - 48s 2s/step - loss: 0.6995 - precision: 0.8991 - recall: 0.6935 - f1_score: 0.6963 - val_loss: 0.3845 - val_precision: 0.9478 - val_recall: 0.8418 - val_f1_score: 0.8108\n",
            "Epoch 19/100\n",
            "30/30 [==============================] - 46s 2s/step - loss: 0.6331 - precision: 0.9039 - recall: 0.7312 - f1_score: 0.7135 - val_loss: 0.3483 - val_precision: 0.9405 - val_recall: 0.8574 - val_f1_score: 0.8090\n",
            "Epoch 20/100\n",
            "30/30 [==============================] - 47s 2s/step - loss: 0.5669 - precision: 0.9146 - recall: 0.7617 - f1_score: 0.7522 - val_loss: 0.3086 - val_precision: 0.9459 - val_recall: 0.8789 - val_f1_score: 0.8548\n",
            "Epoch 21/100\n",
            "30/30 [==============================] - 48s 2s/step - loss: 0.5278 - precision: 0.9153 - recall: 0.7810 - f1_score: 0.7620 - val_loss: 0.2738 - val_precision: 0.9454 - val_recall: 0.8882 - val_f1_score: 0.8592\n"
          ]
        }
      ],
      "source": [
        "seq_len = 64\n",
        "batch_size = 256\n",
        "num_samples = df.shape[0]\n",
        "model_name = 'joeddav/distilbert-base-uncased-go-emotions-student'\n",
        "\n",
        "tokenizer = transformers.AutoTokenizer.from_pretrained(model_name)\n",
        "\n",
        "train_tokens = tokenizer(\n",
        "    df['text'].tolist(), \n",
        "    max_length=seq_len, \n",
        "    truncation=True, \n",
        "    padding='max_length', \n",
        "    add_special_tokens=True, \n",
        "    return_tensors='np'\n",
        ")\n",
        "\n",
        "y_train = df['emotion'].values\n",
        "labels = np.zeros((num_samples, y_train.max() + 1))\n",
        "labels[np.arange(num_samples), y_train] = 1\n",
        "\n",
        "dataset = tf.data.Dataset.from_tensor_slices(\n",
        "    (\n",
        "        train_tokens['input_ids'], \n",
        "        train_tokens['attention_mask'], \n",
        "        labels\n",
        "    )\n",
        ")\n",
        "\n",
        "def map_func(input_ids, masks, labels):\n",
        "    return {\n",
        "        'input_ids': input_ids,\n",
        "        'attention_mask': masks\n",
        "    }, labels\n",
        "\n",
        "dataset = dataset.map(map_func)\n",
        "dataset = dataset.shuffle(10000).batch(batch_size = batch_size, drop_remainder = True)\n",
        "\n",
        "split = 0.8\n",
        "size = int((train_tokens['input_ids'].shape[0] // batch_size) * split)\n",
        "\n",
        "train_ds = dataset.take(size)\n",
        "val_ds = dataset.skip(size)\n",
        "\n",
        "model = TFAutoModel.from_pretrained(model_name)\n",
        "\n",
        "# Two inputs\n",
        "input_ids = tf.keras.layers.Input(shape = (seq_len,), name = 'input_ids', dtype = 'int32')\n",
        "mask = tf.keras.layers.Input(shape = (seq_len,), name = 'attention_mask', dtype = 'int32')\n",
        "\n",
        "# Transformer\n",
        "# embeddings = model.bert(input_ids, attention_mask=mask)[1]\n",
        "embeddings = model(input_ids, attention_mask = mask)[0]\n",
        "embeddings = embeddings[:, 0, :]\n",
        "# Classifier head\n",
        "x = tf.keras.layers.Dense(512, activation = 'relu')(embeddings)\n",
        "# x = tf.keras.layers.Dropout(0.1)(x)\n",
        "y = tf.keras.layers.Dense(28, activation = 'softmax', name = 'outputs')(x)\n",
        "\n",
        "bert_model = tf.keras.Model(inputs = [input_ids, mask], outputs = y)\n",
        "\n",
        "optimizer = tf.keras.optimizers.Adam(learning_rate = 2e-5)\n",
        "loss = tf.keras.losses.CategoricalCrossentropy()\n",
        "precision = tf.keras.metrics.Precision()\n",
        "recall = tf.keras.metrics.Recall()\n",
        "f1 = tfa.metrics.F1Score(num_classes=28)\n",
        "\n",
        "bert_model.compile(optimizer = optimizer, loss = loss, metrics = [precision,recall,f1])\n",
        "\n",
        "model_checkpoint_callback = tf.keras.callbacks.ModelCheckpoint(\n",
        "    filepath='/content/drive/MyDrive/GoEmotions_Priyanka/distilbert_best.h5',\n",
        "    save_weights_only=False,\n",
        "    monitor='val_precision',\n",
        "    mode='max',\n",
        "    save_best_only=True)\n",
        "\n",
        "early_stopping_callback = tf.keras.callbacks.EarlyStopping(monitor='val_precision', patience=3, mode=\"max\")\n",
        "\n",
        "history = bert_model.fit(\n",
        "    train_ds,\n",
        "    validation_data = val_ds,\n",
        "    epochs = 100,\n",
        "    batch_size = batch_size,\n",
        "    callbacks=[early_stopping_callback,model_checkpoint_callback]\n",
        ")\n"
      ]
    },
    {
      "cell_type": "code",
      "source": [
        "seq_len = 64\n",
        "batch_size = 64\n",
        "num_samples = df.shape[0]\n",
        "model_name = 'bhadresh-savani/bert-base-go-emotion'\n",
        "\n",
        "tokenizer = transformers.AutoTokenizer.from_pretrained(model_name)\n",
        "\n",
        "train_tokens = tokenizer(\n",
        "    df['text'].tolist(), \n",
        "    max_length=seq_len, \n",
        "    truncation=True, \n",
        "    padding='max_length', \n",
        "    add_special_tokens=True, \n",
        "    return_tensors='np'\n",
        ")\n",
        "\n",
        "y_train = df['emotion'].values\n",
        "labels = np.zeros((num_samples, y_train.max() + 1))\n",
        "labels[np.arange(num_samples), y_train] = 1\n",
        "\n",
        "dataset = tf.data.Dataset.from_tensor_slices(\n",
        "    (\n",
        "        train_tokens['input_ids'], \n",
        "        train_tokens['attention_mask'], \n",
        "        labels\n",
        "    )\n",
        ")\n",
        "\n",
        "def map_func(input_ids, masks, labels):\n",
        "    return {\n",
        "        'input_ids': input_ids,\n",
        "        'attention_mask': masks\n",
        "    }, labels\n",
        "\n",
        "dataset = dataset.map(map_func)\n",
        "dataset = dataset.shuffle(10000).batch(batch_size = batch_size, drop_remainder = True)\n",
        "\n",
        "split = 0.8\n",
        "size = int((train_tokens['input_ids'].shape[0] // batch_size) * split)\n",
        "\n",
        "train_ds = dataset.take(size)\n",
        "val_ds = dataset.skip(size)\n",
        "\n",
        "model = TFAutoModel.from_pretrained(model_name,from_pt=True)\n",
        "\n",
        "# Two inputs\n",
        "input_ids = tf.keras.layers.Input(shape = (seq_len,), name = 'input_ids', dtype = 'int32')\n",
        "mask = tf.keras.layers.Input(shape = (seq_len,), name = 'attention_mask', dtype = 'int32')\n",
        "\n",
        "# Transformer\n",
        "# embeddings = model.bert(input_ids, attention_mask=mask)[1]\n",
        "embeddings = model(input_ids, attention_mask = mask)[0]\n",
        "embeddings = embeddings[:, 0, :]\n",
        "# Classifier head\n",
        "x = tf.keras.layers.Dense(512, activation = 'relu')(embeddings)\n",
        "# x = tf.keras.layers.Dropout(0.1)(x)\n",
        "y = tf.keras.layers.Dense(28, activation = 'softmax', name = 'outputs')(x)\n",
        "\n",
        "bert_model = tf.keras.Model(inputs = [input_ids, mask], outputs = y)\n",
        "\n",
        "optimizer = tf.keras.optimizers.Adam(learning_rate = 2e-5)\n",
        "loss = tf.keras.losses.CategoricalCrossentropy()\n",
        "precision = tf.keras.metrics.Precision()\n",
        "recall = tf.keras.metrics.Recall()\n",
        "f1 = tfa.metrics.F1Score(num_classes=28)\n",
        "\n",
        "bert_model.compile(optimizer = optimizer, loss = loss, metrics = [precision,recall,f1])\n",
        "\n",
        "model_checkpoint_callback = tf.keras.callbacks.ModelCheckpoint(\n",
        "    filepath='/content/drive/MyDrive/GoEmotions_Priyanka/bert_best.h5',\n",
        "    save_weights_only=False,\n",
        "    monitor='val_precision_4',\n",
        "    mode='max',\n",
        "    save_best_only=True)\n",
        "\n",
        "early_stopping_callback = tf.keras.callbacks.EarlyStopping(monitor='val_precision_4', patience=3, mode = 'max')\n",
        "\n",
        "history = bert_model.fit(\n",
        "    train_ds,\n",
        "    validation_data = val_ds,\n",
        "    epochs = 100,\n",
        "    batch_size = batch_size,\n",
        "    callbacks=[early_stopping_callback,model_checkpoint_callback]\n",
        ")\n"
      ],
      "metadata": {
        "id": "DChHZF0u61E8",
        "colab": {
          "base_uri": "https://localhost:8080/"
        },
        "outputId": "6f1ad3d3-6487-4092-93c1-92af7093526a"
      },
      "id": "DChHZF0u61E8",
      "execution_count": null,
      "outputs": [
        {
          "output_type": "stream",
          "name": "stderr",
          "text": [
            "Some weights of the PyTorch model were not used when initializing the TF 2.0 model TFBertModel: ['bert.embeddings.position_ids', 'classifier.bias', 'classifier.weight']\n",
            "- This IS expected if you are initializing TFBertModel from a PyTorch model trained on another task or with another architecture (e.g. initializing a TFBertForSequenceClassification model from a BertForPreTraining model).\n",
            "- This IS NOT expected if you are initializing TFBertModel from a PyTorch model that you expect to be exactly identical (e.g. initializing a TFBertForSequenceClassification model from a BertForSequenceClassification model).\n",
            "All the weights of TFBertModel were initialized from the PyTorch model.\n",
            "If your task is similar to the task the model of the checkpoint was trained on, you can already use TFBertModel for predictions without further training.\n"
          ]
        },
        {
          "output_type": "stream",
          "name": "stdout",
          "text": [
            "Epoch 1/100\n"
          ]
        },
        {
          "output_type": "stream",
          "name": "stderr",
          "text": [
            "WARNING:tensorflow:Gradients do not exist for variables ['tf_bert_model_2/bert/pooler/dense/kernel:0', 'tf_bert_model_2/bert/pooler/dense/bias:0'] when minimizing the loss. If you're using `model.compile()`, did you forget to provide a `loss` argument?\n",
            "WARNING:tensorflow:Gradients do not exist for variables ['tf_bert_model_2/bert/pooler/dense/kernel:0', 'tf_bert_model_2/bert/pooler/dense/bias:0'] when minimizing the loss. If you're using `model.compile()`, did you forget to provide a `loss` argument?\n",
            "WARNING:tensorflow:Gradients do not exist for variables ['tf_bert_model_2/bert/pooler/dense/kernel:0', 'tf_bert_model_2/bert/pooler/dense/bias:0'] when minimizing the loss. If you're using `model.compile()`, did you forget to provide a `loss` argument?\n",
            "WARNING:tensorflow:Gradients do not exist for variables ['tf_bert_model_2/bert/pooler/dense/kernel:0', 'tf_bert_model_2/bert/pooler/dense/bias:0'] when minimizing the loss. If you're using `model.compile()`, did you forget to provide a `loss` argument?\n"
          ]
        },
        {
          "output_type": "stream",
          "name": "stdout",
          "text": [
            "124/124 [==============================] - 146s 832ms/step - loss: 2.2868 - precision_3: 0.5613 - recall_3: 0.1559 - f1_score: 0.1887 - val_loss: 2.0197 - val_precision_3: 0.6352 - val_recall_3: 0.2001 - val_f1_score: 0.2236\n",
            "Epoch 2/100\n",
            "124/124 [==============================] - 104s 841ms/step - loss: 2.0876 - precision_3: 0.5970 - recall_3: 0.1919 - f1_score: 0.2361 - val_loss: 1.9628 - val_precision_3: 0.6594 - val_recall_3: 0.1971 - val_f1_score: 0.2705\n",
            "Epoch 3/100\n",
            "124/124 [==============================] - 104s 837ms/step - loss: 1.9836 - precision_3: 0.6196 - recall_3: 0.2227 - f1_score: 0.2672 - val_loss: 1.7243 - val_precision_3: 0.6950 - val_recall_3: 0.2883 - val_f1_score: 0.3382\n",
            "Epoch 4/100\n",
            "124/124 [==============================] - 107s 861ms/step - loss: 1.8530 - precision_3: 0.6441 - recall_3: 0.2479 - f1_score: 0.2945 - val_loss: 1.6929 - val_precision_3: 0.7078 - val_recall_3: 0.2918 - val_f1_score: 0.3295\n",
            "Epoch 5/100\n",
            "124/124 [==============================] - 106s 852ms/step - loss: 1.7481 - precision_3: 0.6660 - recall_3: 0.2836 - f1_score: 0.3343 - val_loss: 1.4972 - val_precision_3: 0.7765 - val_recall_3: 0.3397 - val_f1_score: 0.4208\n",
            "Epoch 6/100\n",
            "124/124 [==============================] - 98s 788ms/step - loss: 1.5912 - precision_3: 0.7021 - recall_3: 0.3401 - f1_score: 0.3829 - val_loss: 1.3181 - val_precision_3: 0.7380 - val_recall_3: 0.4259 - val_f1_score: 0.4903\n",
            "Epoch 7/100\n",
            "124/124 [==============================] - 104s 841ms/step - loss: 1.4546 - precision_3: 0.7185 - recall_3: 0.3915 - f1_score: 0.4326 - val_loss: 1.1351 - val_precision_3: 0.8112 - val_recall_3: 0.5176 - val_f1_score: 0.5430\n",
            "Epoch 8/100\n",
            "124/124 [==============================] - 106s 857ms/step - loss: 1.2820 - precision_3: 0.7540 - recall_3: 0.4627 - f1_score: 0.4891 - val_loss: 0.9223 - val_precision_3: 0.8536 - val_recall_3: 0.5968 - val_f1_score: 0.6306\n",
            "Epoch 9/100\n",
            "124/124 [==============================] - 103s 829ms/step - loss: 1.1369 - precision_3: 0.7795 - recall_3: 0.5204 - f1_score: 0.5437 - val_loss: 0.7951 - val_precision_3: 0.8711 - val_recall_3: 0.6643 - val_f1_score: 0.6635\n",
            "Epoch 10/100\n",
            "124/124 [==============================] - 106s 856ms/step - loss: 1.0108 - precision_3: 0.7994 - recall_3: 0.5769 - f1_score: 0.5854 - val_loss: 0.6646 - val_precision_3: 0.8769 - val_recall_3: 0.7182 - val_f1_score: 0.7131\n",
            "Epoch 11/100\n",
            "124/124 [==============================] - 104s 840ms/step - loss: 0.8856 - precision_3: 0.8230 - recall_3: 0.6322 - f1_score: 0.6307 - val_loss: 0.5884 - val_precision_3: 0.8944 - val_recall_3: 0.7772 - val_f1_score: 0.7665\n",
            "Epoch 12/100\n",
            "124/124 [==============================] - 105s 848ms/step - loss: 0.7720 - precision_3: 0.8430 - recall_3: 0.6801 - f1_score: 0.6888 - val_loss: 0.4785 - val_precision_3: 0.9030 - val_recall_3: 0.8070 - val_f1_score: 0.7857\n",
            "Epoch 13/100\n",
            "124/124 [==============================] - 106s 855ms/step - loss: 0.6971 - precision_3: 0.8536 - recall_3: 0.7157 - f1_score: 0.7113 - val_loss: 0.4227 - val_precision_3: 0.9139 - val_recall_3: 0.8291 - val_f1_score: 0.8471\n",
            "Epoch 14/100\n",
            "124/124 [==============================] - 106s 855ms/step - loss: 0.6169 - precision_3: 0.8732 - recall_3: 0.7499 - f1_score: 0.7511 - val_loss: 0.3993 - val_precision_3: 0.9171 - val_recall_3: 0.8422 - val_f1_score: 0.8289\n",
            "Epoch 15/100\n",
            "124/124 [==============================] - 107s 861ms/step - loss: 0.5679 - precision_3: 0.8769 - recall_3: 0.7741 - f1_score: 0.7737 - val_loss: 0.3053 - val_precision_3: 0.9320 - val_recall_3: 0.8770 - val_f1_score: 0.8779\n",
            "Epoch 16/100\n",
            "124/124 [==============================] - 103s 832ms/step - loss: 0.4912 - precision_3: 0.8890 - recall_3: 0.8030 - f1_score: 0.8083 - val_loss: 0.2788 - val_precision_3: 0.9352 - val_recall_3: 0.8942 - val_f1_score: 0.8916\n",
            "Epoch 17/100\n",
            "124/124 [==============================] - 106s 858ms/step - loss: 0.4622 - precision_3: 0.8921 - recall_3: 0.8187 - f1_score: 0.8263 - val_loss: 0.2538 - val_precision_3: 0.9379 - val_recall_3: 0.8982 - val_f1_score: 0.8990\n",
            "Epoch 18/100\n",
            "124/124 [==============================] - 100s 802ms/step - loss: 0.4371 - precision_3: 0.8949 - recall_3: 0.8304 - f1_score: 0.8293 - val_loss: 0.2764 - val_precision_3: 0.9314 - val_recall_3: 0.8891 - val_f1_score: 0.8923\n",
            "Epoch 19/100\n",
            "124/124 [==============================] - 102s 823ms/step - loss: 0.3959 - precision_3: 0.9060 - recall_3: 0.8468 - f1_score: 0.8461 - val_loss: 0.2201 - val_precision_3: 0.9356 - val_recall_3: 0.9153 - val_f1_score: 0.8772\n",
            "Epoch 20/100\n",
            "124/124 [==============================] - 105s 848ms/step - loss: 0.3841 - precision_3: 0.9024 - recall_3: 0.8514 - f1_score: 0.8536 - val_loss: 0.2049 - val_precision_3: 0.9450 - val_recall_3: 0.9183 - val_f1_score: 0.9115\n",
            "Epoch 21/100\n",
            "124/124 [==============================] - 105s 846ms/step - loss: 0.3472 - precision_3: 0.9119 - recall_3: 0.8661 - f1_score: 0.8680 - val_loss: 0.1948 - val_precision_3: 0.9464 - val_recall_3: 0.9254 - val_f1_score: 0.9096\n",
            "Epoch 22/100\n",
            "124/124 [==============================] - 100s 805ms/step - loss: 0.3392 - precision_3: 0.9135 - recall_3: 0.8673 - f1_score: 0.8759 - val_loss: 0.1941 - val_precision_3: 0.9440 - val_recall_3: 0.9264 - val_f1_score: 0.9182\n",
            "Epoch 23/100\n",
            "124/124 [==============================] - 108s 873ms/step - loss: 0.3048 - precision_3: 0.9208 - recall_3: 0.8834 - f1_score: 0.8856 - val_loss: 0.1696 - val_precision_3: 0.9503 - val_recall_3: 0.9340 - val_f1_score: 0.9329\n",
            "Epoch 24/100\n",
            "124/124 [==============================] - 100s 804ms/step - loss: 0.3086 - precision_3: 0.9172 - recall_3: 0.8850 - f1_score: 0.8806 - val_loss: 0.1565 - val_precision_3: 0.9500 - val_recall_3: 0.9289 - val_f1_score: 0.9318\n",
            "Epoch 25/100\n",
            "124/124 [==============================] - 100s 807ms/step - loss: 0.2967 - precision_3: 0.9188 - recall_3: 0.8886 - f1_score: 0.8857 - val_loss: 0.1906 - val_precision_3: 0.9368 - val_recall_3: 0.9259 - val_f1_score: 0.9017\n",
            "Epoch 26/100\n",
            "124/124 [==============================] - 107s 863ms/step - loss: 0.2711 - precision_3: 0.9263 - recall_3: 0.8977 - f1_score: 0.8946 - val_loss: 0.1406 - val_precision_3: 0.9537 - val_recall_3: 0.9441 - val_f1_score: 0.9464\n",
            "Epoch 27/100\n",
            "124/124 [==============================] - 100s 807ms/step - loss: 0.2738 - precision_3: 0.9235 - recall_3: 0.8944 - f1_score: 0.8932 - val_loss: 0.1662 - val_precision_3: 0.9390 - val_recall_3: 0.9304 - val_f1_score: 0.9209\n",
            "Epoch 28/100\n",
            "124/124 [==============================] - 100s 801ms/step - loss: 0.2586 - precision_3: 0.9273 - recall_3: 0.9001 - f1_score: 0.8915 - val_loss: 0.1685 - val_precision_3: 0.9414 - val_recall_3: 0.9315 - val_f1_score: 0.9307\n",
            "Epoch 29/100\n",
            "124/124 [==============================] - 100s 808ms/step - loss: 0.2678 - precision_3: 0.9230 - recall_3: 0.8976 - f1_score: 0.8963 - val_loss: 0.1569 - val_precision_3: 0.9476 - val_recall_3: 0.9289 - val_f1_score: 0.9234\n"
          ]
        }
      ]
    },
    {
      "cell_type": "code",
      "source": [
        "!pip install gradio -q\n",
        "import gradio as gr\n",
        "import tensorflow as tf\n",
        "\n",
        "model = tf.keras.models.load_model('/content/drive/MyDrive/GoEmotions_Priyanka/bert_best.h5',custom_objects={\"TFBertModel\": transformers.TFBertModel})\n",
        "\n",
        "def classify_text(text):\n",
        "    text = clean(text)\n",
        "    tokens = tokenizer([text], max_length=64, truncation=True, padding='max_length', add_special_tokens=True, return_tensors='np')\n",
        "    prediction = model.predict([tokens['input_ids'],tokens['attention_mask']])[0]\n",
        "    label = np.argmax(prediction)\n",
        "    return le.inverse_transform(np.array((label,)))[0]\n",
        "interface = gr.Interface(\n",
        "    fn=classify_text,\n",
        "    inputs=gr.inputs.Textbox(),\n",
        "    outputs=gr.outputs.Label(),\n",
        "    title='Priyanka GoEmotions Classification',\n",
        "    description='Know the emotion of your text'\n",
        ")\n",
        "\n",
        "interface.launch(debug=True, share = True)\n"
      ],
      "metadata": {
        "id": "E_gle7w-QRJK",
        "colab": {
          "base_uri": "https://localhost:8080/",
          "height": 730
        },
        "outputId": "750af6d7-a665-4816-c217-512babc989d7"
      },
      "id": "E_gle7w-QRJK",
      "execution_count": null,
      "outputs": [
        {
          "output_type": "stream",
          "name": "stdout",
          "text": [
            "Colab notebook detected. This cell will run indefinitely so that you can see errors and logs. To turn off, set debug=False in launch().\n",
            "Running on public URL: https://86b6e8c8c044b5512a.gradio.live\n",
            "\n",
            "This share link expires in 72 hours. For free permanent hosting and GPU upgrades (NEW!), check out Spaces: https://huggingface.co/spaces\n"
          ]
        },
        {
          "output_type": "display_data",
          "data": {
            "text/plain": [
              "<IPython.core.display.HTML object>"
            ],
            "text/html": [
              "<div><iframe src=\"https://86b6e8c8c044b5512a.gradio.live\" width=\"100%\" height=\"500\" allow=\"autoplay; camera; microphone; clipboard-read; clipboard-write;\" frameborder=\"0\" allowfullscreen></iframe></div>"
            ]
          },
          "metadata": {}
        },
        {
          "output_type": "stream",
          "name": "stdout",
          "text": [
            "1/1 [==============================] - 0s 53ms/step\n",
            "1/1 [==============================] - 0s 54ms/step\n",
            "1/1 [==============================] - 0s 51ms/step\n",
            "1/1 [==============================] - 0s 153ms/step\n",
            "1/1 [==============================] - 0s 75ms/step\n",
            "1/1 [==============================] - 0s 135ms/step\n",
            "Keyboard interruption in main thread... closing server.\n",
            "Killing tunnel 127.0.0.1:7861 <> https://86b6e8c8c044b5512a.gradio.live\n"
          ]
        },
        {
          "output_type": "execute_result",
          "data": {
            "text/plain": []
          },
          "metadata": {},
          "execution_count": 34
        }
      ]
    }
  ],
  "metadata": {
    "kernelspec": {
      "display_name": "Python 3 (ipykernel)",
      "language": "python",
      "name": "python3"
    },
    "language_info": {
      "codemirror_mode": {
        "name": "ipython",
        "version": 3
      },
      "file_extension": ".py",
      "mimetype": "text/x-python",
      "name": "python",
      "nbconvert_exporter": "python",
      "pygments_lexer": "ipython3",
      "version": "3.9.13"
    },
    "colab": {
      "provenance": []
    },
    "accelerator": "GPU",
    "gpuClass": "standard"
  },
  "nbformat": 4,
  "nbformat_minor": 5
}